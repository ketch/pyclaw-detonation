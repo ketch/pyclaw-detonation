{
 "metadata": {
  "name": ""
 },
 "nbformat": 3,
 "nbformat_minor": 0,
 "worksheets": [
  {
   "cells": [
    {
     "cell_type": "code",
     "collapsed": false,
     "input": [
      "%pylab inline\n",
      "gamma = 1.4\n",
      "gamma1 = gamma - 1.\n",
      "qheat = 1.\n",
      "Ea = 22\n",
      "T_ign = 1.1"
     ],
     "language": "python",
     "metadata": {},
     "outputs": [
      {
       "output_type": "stream",
       "stream": "stdout",
       "text": [
        "Populating the interactive namespace from numpy and matplotlib\n"
       ]
      }
     ],
     "prompt_number": 1
    },
    {
     "cell_type": "code",
     "collapsed": false,
     "input": [
      "import numpy as np\n",
      "import matplotlib.pylab as plt\n",
      "from clawpack import pyclaw\n",
      "from clawpack import riemann\n",
      "import reactive_euler\n",
      "import steadyState as steadyState\n",
      "from clawpack.pyclaw import io"
     ],
     "language": "python",
     "metadata": {},
     "outputs": [],
     "prompt_number": 2
    },
    {
     "cell_type": "code",
     "collapsed": false,
     "input": [
      "def step_reaction(solver, state, dt):\n",
      "    global k\n",
      "    q = state.q\n",
      "    q[0,:] = q[0,:]\n",
      "    q[1,:] = q[1,:]\n",
      "    q[2,:] = q[2,:]\n",
      "    q[3,:] = q[3,:] + dt*omega(q, k)\n",
      "    \n",
      "def omega(q, k):\n",
      "    \"\"\" Reaction rate function\n",
      "    \"\"\"\n",
      "    import numpy as np\n",
      "    pressure = gamma1*(q[2,:]-0.5*q[1,:]**2/q[0,:] -\n",
      "                        qheat*q[3,:])\n",
      "    T = pressure / q[0,:]\n",
      "    return -k*(q[3,:])*np.exp(Ea*(1-1/T))*(T>T_ign)"
     ],
     "language": "python",
     "metadata": {},
     "outputs": [],
     "prompt_number": 3
    },
    {
     "cell_type": "code",
     "collapsed": false,
     "input": [
      "solver = pyclaw.ClawSolver1D(reactive_euler)\n",
      "solver.step_source = step_reaction\n",
      "solver.bc_lower[0]=pyclaw.BC.extrap\n",
      "solver.bc_upper[0]=pyclaw.BC.extrap"
     ],
     "language": "python",
     "metadata": {},
     "outputs": [],
     "prompt_number": 4
    },
    {
     "cell_type": "code",
     "collapsed": false,
     "input": [
      " # Initialize domain\n",
      "mx=500\n",
      "xmax=50\n",
      "x = pyclaw.Dimension('x',0.0,xmax,mx)\n",
      "domain = pyclaw.Domain([x])\n",
      "num_eqn = 4\n",
      "state = pyclaw.State(domain,num_eqn)\n",
      "\n",
      "state.problem_data['gamma']= gamma\n",
      "state.problem_data['gamma1']= gamma1\n",
      "state.problem_data['qheat']= qheat\n",
      "state.problem_data['Ea'] = Ea\n",
      "state.problem_data['T_ign'] = T_ign\n",
      "\n",
      "x =state.grid.x.centers\n",
      "xs = xmax-5\n",
      "xdet = x[x<xs]\n",
      "\n",
      "rhol, Ul, pl, laml, D, k = steadyState.steadyState(qheat, Ea, gamma, xdet)\n",
      "ul = Ul + D\n",
      "Yl = 1-laml\n",
      "state.problem_data['fspeed'] = 1.*D\n",
      "\n",
      "rhor = 1.*np.ones(np.shape(x[x>=xs]))\n",
      "ur = 0.0*np.ones(np.shape(x[x>=xs]))\n",
      "pr = 1*np.ones(np.shape(x[x>=xs]))\n",
      "Yr = 1.*np.ones(np.shape(x[x>=xs]))\n",
      "\n",
      "rho = np.append(rhol, rhor)\n",
      "u = np.append(ul, ur)\n",
      "p = np.append(pl, pr)\n",
      "Y = np.append(Yl, Yr)"
     ],
     "language": "python",
     "metadata": {},
     "outputs": [
      {
       "output_type": "stream",
       "stream": "stdout",
       "text": [
        "Half reaction lenght set to 0.000301395129674\n"
       ]
      },
      {
       "output_type": "stream",
       "stream": "stderr",
       "text": [
        "steadyState.py:43: RuntimeWarning: invalid value encountered in sqrt\n",
        "  delta = b*np.sqrt(1-lam)\n"
       ]
      }
     ],
     "prompt_number": 5
    },
    {
     "cell_type": "code",
     "collapsed": false,
     "input": [
      "state.sum_F?"
     ],
     "language": "python",
     "metadata": {},
     "outputs": [],
     "prompt_number": 15
    },
    {
     "cell_type": "code",
     "collapsed": false,
     "input": [
      "state.q[0,:] = rho\n",
      "state.q[1,:] = rho*u\n",
      "state.q[2,:] = p/gamma1 + rho*u**2/2 + qheat*rho*Y\n",
      "state.q[3,:] = rho*Y\n",
      "state.mF = 1\n",
      "    "
     ],
     "language": "python",
     "metadata": {},
     "outputs": [
      {
       "ename": "Exception",
       "evalue": "Cannot change state.mF after aux is initialized.",
       "output_type": "pyerr",
       "traceback": [
        "\u001b[1;31m---------------------------------------------------------------------------\u001b[0m\n\u001b[1;31mException\u001b[0m                                 Traceback (most recent call last)",
        "\u001b[1;32m<ipython-input-14-ea67594214a1>\u001b[0m in \u001b[0;36m<module>\u001b[1;34m()\u001b[0m\n\u001b[0;32m      3\u001b[0m \u001b[0mstate\u001b[0m\u001b[1;33m.\u001b[0m\u001b[0mq\u001b[0m\u001b[1;33m[\u001b[0m\u001b[1;36m2\u001b[0m\u001b[1;33m,\u001b[0m\u001b[1;33m:\u001b[0m\u001b[1;33m]\u001b[0m \u001b[1;33m=\u001b[0m \u001b[0mp\u001b[0m\u001b[1;33m/\u001b[0m\u001b[0mgamma1\u001b[0m \u001b[1;33m+\u001b[0m \u001b[0mrho\u001b[0m\u001b[1;33m*\u001b[0m\u001b[0mu\u001b[0m\u001b[1;33m**\u001b[0m\u001b[1;36m2\u001b[0m\u001b[1;33m/\u001b[0m\u001b[1;36m2\u001b[0m \u001b[1;33m+\u001b[0m \u001b[0mqheat\u001b[0m\u001b[1;33m*\u001b[0m\u001b[0mrho\u001b[0m\u001b[1;33m*\u001b[0m\u001b[0mY\u001b[0m\u001b[1;33m\u001b[0m\u001b[0m\n\u001b[0;32m      4\u001b[0m \u001b[0mstate\u001b[0m\u001b[1;33m.\u001b[0m\u001b[0mq\u001b[0m\u001b[1;33m[\u001b[0m\u001b[1;36m3\u001b[0m\u001b[1;33m,\u001b[0m\u001b[1;33m:\u001b[0m\u001b[1;33m]\u001b[0m \u001b[1;33m=\u001b[0m \u001b[0mrho\u001b[0m\u001b[1;33m*\u001b[0m\u001b[0mY\u001b[0m\u001b[1;33m\u001b[0m\u001b[0m\n\u001b[1;32m----> 5\u001b[1;33m \u001b[0mstate\u001b[0m\u001b[1;33m.\u001b[0m\u001b[0mmF\u001b[0m \u001b[1;33m=\u001b[0m \u001b[1;36m1\u001b[0m\u001b[1;33m\u001b[0m\u001b[0m\n\u001b[0m\u001b[0;32m      6\u001b[0m \u001b[0mget_ipython\u001b[0m\u001b[1;33m(\u001b[0m\u001b[1;33m)\u001b[0m\u001b[1;33m.\u001b[0m\u001b[0mmagic\u001b[0m\u001b[1;33m(\u001b[0m\u001b[1;34mu'pinfo state.sum_F'\u001b[0m\u001b[1;33m)\u001b[0m\u001b[1;33m\u001b[0m\u001b[0m\n",
        "\u001b[1;32m/home/maltezfaria/Numerical_Packages/clawpack-5.0.0/clawpack/pyclaw/state.pyc\u001b[0m in \u001b[0;36mmF\u001b[1;34m(self, mF)\u001b[0m\n\u001b[0;32m    104\u001b[0m     \u001b[1;32mdef\u001b[0m \u001b[0mmF\u001b[0m\u001b[1;33m(\u001b[0m\u001b[0mself\u001b[0m\u001b[1;33m,\u001b[0m\u001b[0mmF\u001b[0m\u001b[1;33m)\u001b[0m\u001b[1;33m:\u001b[0m\u001b[1;33m\u001b[0m\u001b[0m\n\u001b[0;32m    105\u001b[0m         \u001b[1;32mif\u001b[0m \u001b[0mself\u001b[0m\u001b[1;33m.\u001b[0m\u001b[0mF\u001b[0m \u001b[1;32mis\u001b[0m \u001b[1;32mnot\u001b[0m \u001b[0mNone\u001b[0m\u001b[1;33m:\u001b[0m\u001b[1;33m\u001b[0m\u001b[0m\n\u001b[1;32m--> 106\u001b[1;33m             \u001b[1;32mraise\u001b[0m \u001b[0mException\u001b[0m\u001b[1;33m(\u001b[0m\u001b[1;34m'Cannot change state.mF after aux is initialized.'\u001b[0m\u001b[1;33m)\u001b[0m\u001b[1;33m\u001b[0m\u001b[0m\n\u001b[0m\u001b[0;32m    107\u001b[0m         \u001b[1;32melse\u001b[0m\u001b[1;33m:\u001b[0m\u001b[1;33m\u001b[0m\u001b[0m\n\u001b[0;32m    108\u001b[0m             \u001b[0mself\u001b[0m\u001b[1;33m.\u001b[0m\u001b[0mF\u001b[0m \u001b[1;33m=\u001b[0m \u001b[0mself\u001b[0m\u001b[1;33m.\u001b[0m\u001b[0mnew_array\u001b[0m\u001b[1;33m(\u001b[0m\u001b[0mmF\u001b[0m\u001b[1;33m)\u001b[0m\u001b[1;33m\u001b[0m\u001b[0m\n",
        "\u001b[1;31mException\u001b[0m: Cannot change state.mF after aux is initialized."
       ]
      }
     ],
     "prompt_number": 14
    },
    {
     "cell_type": "code",
     "collapsed": false,
     "input": [
      "def compute_f(state):\n",
      "    variation = np.abs(np.diff(state.q[0,:]))\n",
      "    #io.ascii.write()\n",
      "    state.F[0,:] = np.append(variation, 0)\n"
     ],
     "language": "python",
     "metadata": {},
     "outputs": [],
     "prompt_number": 8
    },
    {
     "cell_type": "code",
     "collapsed": false,
     "input": [
      "plt.plot(x,rho, x, p, x, p/rho)"
     ],
     "language": "python",
     "metadata": {},
     "outputs": [
      {
       "metadata": {},
       "output_type": "pyout",
       "prompt_number": 9,
       "text": [
        "[<matplotlib.lines.Line2D at 0x3575f10>,\n",
        " <matplotlib.lines.Line2D at 0x3578050>,\n",
        " <matplotlib.lines.Line2D at 0x3578550>]"
       ]
      },
      {
       "metadata": {},
       "output_type": "display_data",
       "png": "[encoded data removed]",
       "text": [
        "<matplotlib.figure.Figure at 0x34d9cd0>"
       ]
      }
     ],
     "prompt_number": 9
    },
    {
     "cell_type": "code",
     "collapsed": false,
     "input": [
      "claw = pyclaw.Controller()\n",
      "claw.tfinal = 500\n",
      "claw.compute_F = compute_f\n",
      "dtplot = 1\n",
      "num_out = np.ceil(claw.tfinal / dtplot)\n",
      "claw.keep_copy = True       # Keep solution data in memory for plotting\n",
      "claw.output_format = False   # Don't write solution data to file\n",
      "claw.num_output_times = num_out  # Write 50 output frames\n",
      "claw.solution = pyclaw.Solution(state,domain)\n",
      "claw.solver = solver"
     ],
     "language": "python",
     "metadata": {},
     "outputs": [],
     "prompt_number": 10
    },
    {
     "cell_type": "code",
     "collapsed": false,
     "input": [
      "state.problem_data['gamma']= gamma\n",
      "state.problem_data['gamma1']= gamma1\n",
      "state.problem_data['qheat']= qheat\n",
      "state.problem_data['Ea'] = Ea\n",
      "state.problem_data['T_ign'] = T_ign\n",
      "state.problem_data['fspeed'] = 1.*D"
     ],
     "language": "python",
     "metadata": {},
     "outputs": [],
     "prompt_number": 11
    },
    {
     "cell_type": "markdown",
     "metadata": {},
     "source": [
      "Finally, let's run the simulation."
     ]
    },
    {
     "cell_type": "code",
     "collapsed": false,
     "input": [
      "status = claw.run();"
     ],
     "language": "python",
     "metadata": {},
     "outputs": [
      {
       "ename": "UnboundLocalError",
       "evalue": "local variable 'format_list' referenced before assignment",
       "output_type": "pyerr",
       "traceback": [
        "\u001b[1;31m---------------------------------------------------------------------------\u001b[0m\n\u001b[1;31mUnboundLocalError\u001b[0m                         Traceback (most recent call last)",
        "\u001b[1;32m<ipython-input-13-a483f81309c7>\u001b[0m in \u001b[0;36m<module>\u001b[1;34m()\u001b[0m\n\u001b[1;32m----> 1\u001b[1;33m \u001b[0mstatus\u001b[0m \u001b[1;33m=\u001b[0m \u001b[0mclaw\u001b[0m\u001b[1;33m.\u001b[0m\u001b[0mrun\u001b[0m\u001b[1;33m(\u001b[0m\u001b[1;33m)\u001b[0m\u001b[1;33m;\u001b[0m\u001b[1;33m\u001b[0m\u001b[0m\n\u001b[0m",
        "\u001b[1;32m/home/maltezfaria/Numerical_Packages/clawpack-5.0.0/clawpack/pyclaw/controller.pyc\u001b[0m in \u001b[0;36mrun\u001b[1;34m(self)\u001b[0m\n\u001b[0;32m    327\u001b[0m                                         \u001b[0mself\u001b[0m\u001b[1;33m.\u001b[0m\u001b[0moutput_file_prefix\u001b[0m\u001b[1;33m,\u001b[0m\u001b[1;33m\u001b[0m\u001b[0m\n\u001b[0;32m    328\u001b[0m                                         \u001b[0mwrite_aux\u001b[0m\u001b[1;33m,\u001b[0m\u001b[1;33m\u001b[0m\u001b[0m\n\u001b[1;32m--> 329\u001b[1;33m                                         self.output_options)\n\u001b[0m\u001b[0;32m    330\u001b[0m \u001b[1;33m\u001b[0m\u001b[0m\n\u001b[0;32m    331\u001b[0m         \u001b[0mself\u001b[0m\u001b[1;33m.\u001b[0m\u001b[0mwrite_F\u001b[0m\u001b[1;33m(\u001b[0m\u001b[1;34m'w'\u001b[0m\u001b[1;33m)\u001b[0m\u001b[1;33m\u001b[0m\u001b[0m\n",
        "\u001b[1;32m/home/maltezfaria/Numerical_Packages/clawpack-5.0.0/clawpack/pyclaw/solution.pyc\u001b[0m in \u001b[0;36mwrite\u001b[1;34m(self, frame, path, file_format, file_prefix, write_aux, options, write_p)\u001b[0m\n\u001b[0;32m    284\u001b[0m             \u001b[0mformat_list\u001b[0m \u001b[1;33m=\u001b[0m \u001b[0mfile_format\u001b[0m\u001b[1;33m\u001b[0m\u001b[0m\n\u001b[0;32m    285\u001b[0m \u001b[1;33m\u001b[0m\u001b[0m\n\u001b[1;32m--> 286\u001b[1;33m         \u001b[1;32mif\u001b[0m \u001b[1;34m'petsc'\u001b[0m \u001b[1;32min\u001b[0m \u001b[0mformat_list\u001b[0m\u001b[1;33m:\u001b[0m\u001b[1;33m\u001b[0m\u001b[0m\n\u001b[0m\u001b[0;32m    287\u001b[0m             \u001b[1;32mfrom\u001b[0m \u001b[0mclawpack\u001b[0m\u001b[1;33m.\u001b[0m\u001b[0mpetclaw\u001b[0m \u001b[1;32mimport\u001b[0m \u001b[0mio\u001b[0m\u001b[1;33m\u001b[0m\u001b[0m\n\u001b[0;32m    288\u001b[0m             \u001b[0mwrite_func\u001b[0m \u001b[1;33m=\u001b[0m \u001b[0mio\u001b[0m\u001b[1;33m.\u001b[0m\u001b[0mpetsc\u001b[0m\u001b[1;33m.\u001b[0m\u001b[0mwrite\u001b[0m\u001b[1;33m\u001b[0m\u001b[0m\n",
        "\u001b[1;31mUnboundLocalError\u001b[0m: local variable 'format_list' referenced before assignment"
       ]
      }
     ],
     "prompt_number": 13
    },
    {
     "cell_type": "markdown",
     "metadata": {},
     "source": [
      "## Plotting\n",
      "Now we'll plot the results, which are contained in `claw.frames[:]`.  It's simple to plot a single frame with matplotlib:"
     ]
    },
    {
     "cell_type": "code",
     "collapsed": false,
     "input": [
      "density = claw.frames[50].q[0,:]\n",
      "plt.plot(x,density,'-o')"
     ],
     "language": "python",
     "metadata": {},
     "outputs": []
    },
    {
     "cell_type": "markdown",
     "metadata": {},
     "source": [
      "To examine the evolution more thoroughly, it's nice to see all the frames in sequence.  We can do this as follows."
     ]
    },
    {
     "cell_type": "code",
     "collapsed": false,
     "input": [
      "from matplotlib import animation\n",
      "import matplotlib.pyplot as plt\n",
      "from clawpack.visclaw.JSAnimation import IPython_display\n",
      "import numpy as np\n",
      "\n",
      "fig = plt.figure(figsize(1,1))\n",
      "ax = plt.axes(xlim=(0, xmax), ylim=(0, np.max(rho)+1))\n",
      "\n",
      "frame = claw.frames[0]\n",
      "density = frame.q[0,:]\n",
      "line, = ax.plot([], [], lw=2)\n",
      "\n",
      "def fplot(frame_number):\n",
      "    frame = claw.frames[frame_number]\n",
      "    density = frame.q[0,:]\n",
      "    line.set_data(x,density)\n",
      "    return line,\n",
      "\n",
      "animation.FuncAnimation(fig, fplot, frames=len(claw.frames), interval=30)"
     ],
     "language": "python",
     "metadata": {},
     "outputs": []
    },
    {
     "cell_type": "code",
     "collapsed": false,
     "input": [
      "plt.figure?"
     ],
     "language": "python",
     "metadata": {},
     "outputs": []
    },
    {
     "cell_type": "code",
     "collapsed": false,
     "input": [],
     "language": "python",
     "metadata": {},
     "outputs": []
    }
   ],
   "metadata": {}
  }
 ]
}