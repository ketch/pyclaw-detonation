{
 "metadata": {
  "name": ""
 },
 "nbformat": 3,
 "nbformat_minor": 0,
 "worksheets": [
  {
   "cells": [
    {
     "cell_type": "code",
     "collapsed": false,
     "input": [
      "%pylab inline\n",
      "gamma = 1.4\n",
      "gamma1 = gamma - 1.\n",
      "qheat = 1.\n",
      "Ea = 22\n",
      "T_ign = 1.1"
     ],
     "language": "python",
     "metadata": {},
     "outputs": [
      {
       "output_type": "stream",
       "stream": "stdout",
       "text": [
        "Populating the interactive namespace from numpy and matplotlib\n"
       ]
      }
     ],
     "prompt_number": 1
    },
    {
     "cell_type": "code",
     "collapsed": false,
     "input": [
      "import numpy as np\n",
      "import matplotlib.pylab as plt\n",
      "from clawpack import pyclaw\n",
      "from clawpack import riemann\n",
      "import reactive_euler_roe\n",
      "import steadyState as steadyState"
     ],
     "language": "python",
     "metadata": {},
     "outputs": [],
     "prompt_number": 2
    },
    {
     "cell_type": "code",
     "collapsed": false,
     "input": [
      "def step_reaction(solver, state, dt):\n",
      "    global k\n",
      "    q = state.q\n",
      "    q[0,:] = q[0,:]\n",
      "    q[1,:] = q[1,:]\n",
      "    q[2,:] = q[2,:]\n",
      "    q[3,:] = q[3,:] + dt*omega(q, k)\n",
      "    \n",
      "def omega(q, k):\n",
      "    \"\"\" Reaction rate function\n",
      "    \"\"\"\n",
      "    import numpy as np\n",
      "    pressure = gamma1*(q[2,:]-0.5*q[1,:]**2/q[0,:] -\n",
      "                        qheat*q[3,:])\n",
      "    T = pressure / q[0,:]\n",
      "    return -k*(q[3,:])*np.exp(Ea*(1-1/T))*(T>T_ign)"
     ],
     "language": "python",
     "metadata": {},
     "outputs": [],
     "prompt_number": 3
    },
    {
     "cell_type": "code",
     "collapsed": false,
     "input": [
      "solver = pyclaw.ClawSolver1D(reactive_euler_roe)\n",
      "solver.step_source = step_reaction\n",
      "solver.bc_lower[0]=pyclaw.BC.extrap\n",
      "solver.bc_upper[0]=pyclaw.BC.extrap"
     ],
     "language": "python",
     "metadata": {},
     "outputs": [],
     "prompt_number": 4
    },
    {
     "cell_type": "code",
     "collapsed": false,
     "input": [
      " # Initialize domain\n",
      "mx=500\n",
      "xmax=50\n",
      "x = pyclaw.Dimension('x',0.0,xmax,mx)\n",
      "domain = pyclaw.Domain([x])\n",
      "num_eqn = 4\n",
      "state = pyclaw.State(domain,num_eqn)\n",
      "\n",
      "state.problem_data['gamma']= gamma\n",
      "state.problem_data['gamma1']= gamma1\n",
      "state.problem_data['qheat']= qheat\n",
      "state.problem_data['Ea'] = Ea\n",
      "state.problem_data['T_ign'] = T_ign\n",
      "\n",
      "x =state.grid.x.centers\n",
      "xs = xmax-5\n",
      "xdet = x[x<xs]\n",
      "\n",
      "rhol, Ul, pl, laml, D, k = steadyState.steadyState(qheat, Ea, gamma, xdet)\n",
      "ul = Ul + D\n",
      "Yl = 1-laml\n",
      "state.problem_data['fspeed'] = 1.*D\n",
      "\n",
      "rhor = 1.*np.ones(np.shape(x[x>=xs]))\n",
      "ur = 0.0*np.ones(np.shape(x[x>=xs]))\n",
      "pr = 1*np.ones(np.shape(x[x>=xs]))\n",
      "Yr = 1.*np.ones(np.shape(x[x>=xs]))\n",
      "\n",
      "rho = np.append(rhol, rhor)\n",
      "u = np.append(ul, ur)\n",
      "p = np.append(pl, pr)\n",
      "Y = np.append(Yl, Yr)"
     ],
     "language": "python",
     "metadata": {},
     "outputs": [
      {
       "output_type": "stream",
       "stream": "stdout",
       "text": [
        "Half reaction lenght set to 0.000301395129674\n",
        "Frame speed set to 2.06395124311 \n"
       ]
      },
      {
       "output_type": "stream",
       "stream": "stderr",
       "text": [
        "steadyState.py:45: RuntimeWarning: invalid value encountered in sqrt\n",
        "  delta = b*np.sqrt(1-lam)\n"
       ]
      }
     ],
     "prompt_number": 5
    },
    {
     "cell_type": "code",
     "collapsed": false,
     "input": [
      "state.q[0,:] = rho\n",
      "state.q[1,:] = rho*u\n",
      "state.q[2,:] = p/gamma1 + rho*u**2/2 + qheat*rho*Y\n",
      "state.q[3,:] = rho*Y    "
     ],
     "language": "python",
     "metadata": {},
     "outputs": [],
     "prompt_number": 6
    },
    {
     "cell_type": "code",
     "collapsed": false,
     "input": [
      "plt.plot(x,rho, x, p, x, p/rho)\n",
      "plt.legend(['rho','p','T'], loc='upper left')"
     ],
     "language": "python",
     "metadata": {},
     "outputs": [
      {
       "metadata": {},
       "output_type": "pyout",
       "prompt_number": 7,
       "text": [
        "<matplotlib.legend.Legend at 0x2e4ba90>"
       ]
      },
      {
       "metadata": {},
       "output_type": "display_data",
       "png": "[encoded data removed]",
       "text": [
        "<matplotlib.figure.Figure at 0x2e4bdd0>"
       ]
      }
     ],
     "prompt_number": 7
    },
    {
     "cell_type": "code",
     "collapsed": false,
     "input": [
      "claw = pyclaw.Controller()\n",
      "claw.tfinal = 500\n",
      "dtplot = 1\n",
      "num_out = np.ceil(claw.tfinal / dtplot)\n",
      "claw.keep_copy = True       # Keep solution data in memory for plotting\n",
      "claw.num_output_times = num_out  # Write 50 output frames\n",
      "claw.solution = pyclaw.Solution(state,domain)\n",
      "claw.solver = solver"
     ],
     "language": "python",
     "metadata": {},
     "outputs": [],
     "prompt_number": 8
    },
    {
     "cell_type": "code",
     "collapsed": false,
     "input": [
      "state.problem_data['gamma']= gamma\n",
      "state.problem_data['gamma1']= gamma1\n",
      "state.problem_data['qheat']= qheat\n",
      "state.problem_data['Ea'] = Ea\n",
      "state.problem_data['T_ign'] = T_ign\n",
      "state.problem_data['fspeed'] = 1.*D"
     ],
     "language": "python",
     "metadata": {},
     "outputs": [],
     "prompt_number": 9
    },
    {
     "cell_type": "markdown",
     "metadata": {},
     "source": [
      "Finally, let's run the simulation."
     ]
    },
    {
     "cell_type": "code",
     "collapsed": false,
     "input": [
      "status = claw.run();"
     ],
     "language": "python",
     "metadata": {},
     "outputs": [
      {
       "output_type": "stream",
       "stream": "stdout",
       "text": [
        "2014-03-17 15:32:18,573 INFO CLAW: Solution 0 computed for time t=0.000000\n"
       ]
      },
      {
       "output_type": "stream",
       "stream": "stdout",
       "text": [
        "2014-03-17 15:32:18,600 INFO CLAW: Solution 1 computed for time t=1.000000\n"
       ]
      },
      {
       "output_type": "stream",
       "stream": "stdout",
       "text": [
        "2014-03-17 15:32:18,630 INFO CLAW: Solution 2 computed for time t=2.000000\n"
       ]
      },
      {
       "output_type": "stream",
       "stream": "stdout",
       "text": [
        "2014-03-17 15:32:18,660 INFO CLAW: Solution 3 computed for time t=3.000000\n"
       ]
      },
      {
       "output_type": "stream",
       "stream": "stdout",
       "text": [
        "2014-03-17 15:32:18,687 INFO CLAW: Solution 4 computed for time t=4.000000\n"
       ]
      },
      {
       "output_type": "stream",
       "stream": "stdout",
       "text": [
        "2014-03-17 15:32:18,720 INFO CLAW: Solution 5 computed for time t=5.000000\n"
       ]
      },
      {
       "output_type": "stream",
       "stream": "stdout",
       "text": [
        "2014-03-17 15:32:18,746 INFO CLAW: Solution 6 computed for time t=6.000000\n"
       ]
      },
      {
       "output_type": "stream",
       "stream": "stdout",
       "text": [
        "2014-03-17 15:32:18,783 INFO CLAW: Solution 7 computed for time t=7.000000\n"
       ]
      },
      {
       "output_type": "stream",
       "stream": "stdout",
       "text": [
        "2014-03-17 15:32:18,815 INFO CLAW: Solution 8 computed for time t=8.000000\n"
       ]
      },
      {
       "output_type": "stream",
       "stream": "stdout",
       "text": [
        "2014-03-17 15:32:18,848 INFO CLAW: Solution 9 computed for time t=9.000000\n"
       ]
      },
      {
       "output_type": "stream",
       "stream": "stdout",
       "text": [
        "2014-03-17 15:32:18,886 INFO CLAW: Solution 10 computed for time t=10.000000\n"
       ]
      },
      {
       "output_type": "stream",
       "stream": "stdout",
       "text": [
        "2014-03-17 15:32:18,911 INFO CLAW: Solution 11 computed for time t=11.000000\n"
       ]
      },
      {
       "output_type": "stream",
       "stream": "stdout",
       "text": [
        "2014-03-17 15:32:18,939 INFO CLAW: Solution 12 computed for time t=12.000000\n"
       ]
      },
      {
       "output_type": "stream",
       "stream": "stdout",
       "text": [
        "2014-03-17 15:32:18,967 INFO CLAW: Solution 13 computed for time t=13.000000\n"
       ]
      },
      {
       "output_type": "stream",
       "stream": "stdout",
       "text": [
        "2014-03-17 15:32:18,994 INFO CLAW: Solution 14 computed for time t=14.000000\n"
       ]
      },
      {
       "output_type": "stream",
       "stream": "stdout",
       "text": [
        "2014-03-17 15:32:19,024 INFO CLAW: Solution 15 computed for time t=15.000000\n"
       ]
      },
      {
       "output_type": "stream",
       "stream": "stdout",
       "text": [
        "2014-03-17 15:32:19,050 INFO CLAW: Solution 16 computed for time t=16.000000\n"
       ]
      },
      {
       "output_type": "stream",
       "stream": "stdout",
       "text": [
        "2014-03-17 15:32:19,077 INFO CLAW: Solution 17 computed for time t=17.000000\n"
       ]
      },
      {
       "output_type": "stream",
       "stream": "stdout",
       "text": [
        "2014-03-17 15:32:19,103 INFO CLAW: Solution 18 computed for time t=18.000000\n"
       ]
      },
      {
       "output_type": "stream",
       "stream": "stdout",
       "text": [
        "2014-03-17 15:32:19,131 INFO CLAW: Solution 19 computed for time t=19.000000\n"
       ]
      },
      {
       "output_type": "stream",
       "stream": "stdout",
       "text": [
        "2014-03-17 15:32:19,157 INFO CLAW: Solution 20 computed for time t=20.000000\n"
       ]
      },
      {
       "output_type": "stream",
       "stream": "stdout",
       "text": [
        "2014-03-17 15:32:19,182 INFO CLAW: Solution 21 computed for time t=21.000000\n"
       ]
      },
      {
       "output_type": "stream",
       "stream": "stdout",
       "text": [
        "2014-03-17 15:32:19,213 INFO CLAW: Solution 22 computed for time t=22.000000\n"
       ]
      },
      {
       "output_type": "stream",
       "stream": "stdout",
       "text": [
        "2014-03-17 15:32:19,243 INFO CLAW: Solution 23 computed for time t=23.000000\n"
       ]
      },
      {
       "output_type": "stream",
       "stream": "stdout",
       "text": [
        "2014-03-17 15:32:19,264 INFO CLAW: Solution 24 computed for time t=24.000000\n"
       ]
      },
      {
       "output_type": "stream",
       "stream": "stdout",
       "text": [
        "2014-03-17 15:32:19,285 INFO CLAW: Solution 25 computed for time t=25.000000\n"
       ]
      },
      {
       "output_type": "stream",
       "stream": "stdout",
       "text": [
        "2014-03-17 15:32:19,312 INFO CLAW: Solution 26 computed for time t=26.000000\n"
       ]
      },
      {
       "output_type": "stream",
       "stream": "stdout",
       "text": [
        "2014-03-17 15:32:19,338 INFO CLAW: Solution 27 computed for time t=27.000000\n"
       ]
      },
      {
       "output_type": "stream",
       "stream": "stdout",
       "text": [
        "2014-03-17 15:32:19,365 INFO CLAW: Solution 28 computed for time t=28.000000\n"
       ]
      },
      {
       "output_type": "stream",
       "stream": "stdout",
       "text": [
        "2014-03-17 15:32:19,391 INFO CLAW: Solution 29 computed for time t=29.000000\n"
       ]
      },
      {
       "output_type": "stream",
       "stream": "stdout",
       "text": [
        "2014-03-17 15:32:19,411 INFO CLAW: Solution 30 computed for time t=30.000000\n"
       ]
      },
      {
       "output_type": "stream",
       "stream": "stdout",
       "text": [
        "2014-03-17 15:32:19,438 INFO CLAW: Solution 31 computed for time t=31.000000\n"
       ]
      },
      {
       "output_type": "stream",
       "stream": "stdout",
       "text": [
        "2014-03-17 15:32:19,465 INFO CLAW: Solution 32 computed for time t=32.000000\n"
       ]
      },
      {
       "output_type": "stream",
       "stream": "stdout",
       "text": [
        "2014-03-17 15:32:19,491 INFO CLAW: Solution 33 computed for time t=33.000000\n"
       ]
      },
      {
       "output_type": "stream",
       "stream": "stdout",
       "text": [
        "2014-03-17 15:32:19,518 INFO CLAW: Solution 34 computed for time t=34.000000\n"
       ]
      },
      {
       "output_type": "stream",
       "stream": "stdout",
       "text": [
        "2014-03-17 15:32:19,546 INFO CLAW: Solution 35 computed for time t=35.000000\n"
       ]
      },
      {
       "output_type": "stream",
       "stream": "stdout",
       "text": [
        "2014-03-17 15:32:19,572 INFO CLAW: Solution 36 computed for time t=36.000000\n"
       ]
      },
      {
       "output_type": "stream",
       "stream": "stdout",
       "text": [
        "2014-03-17 15:32:19,600 INFO CLAW: Solution 37 computed for time t=37.000000\n"
       ]
      },
      {
       "output_type": "stream",
       "stream": "stdout",
       "text": [
        "2014-03-17 15:32:19,628 INFO CLAW: Solution 38 computed for time t=38.000000\n"
       ]
      },
      {
       "output_type": "stream",
       "stream": "stdout",
       "text": [
        "2014-03-17 15:32:19,655 INFO CLAW: Solution 39 computed for time t=39.000000\n"
       ]
      },
      {
       "output_type": "stream",
       "stream": "stdout",
       "text": [
        "2014-03-17 15:32:19,682 INFO CLAW: Solution 40 computed for time t=40.000000\n"
       ]
      },
      {
       "output_type": "stream",
       "stream": "stdout",
       "text": [
        "2014-03-17 15:32:19,710 INFO CLAW: Solution 41 computed for time t=41.000000\n"
       ]
      },
      {
       "output_type": "stream",
       "stream": "stdout",
       "text": [
        "2014-03-17 15:32:19,739 INFO CLAW: Solution 42 computed for time t=42.000000\n"
       ]
      },
      {
       "output_type": "stream",
       "stream": "stdout",
       "text": [
        "2014-03-17 15:32:19,768 INFO CLAW: Solution 43 computed for time t=43.000000\n"
       ]
      },
      {
       "output_type": "stream",
       "stream": "stdout",
       "text": [
        "2014-03-17 15:32:19,792 INFO CLAW: Solution 44 computed for time t=44.000000\n"
       ]
      },
      {
       "output_type": "stream",
       "stream": "stdout",
       "text": [
        "2014-03-17 15:32:19,821 INFO CLAW: Solution 45 computed for time t=45.000000\n"
       ]
      },
      {
       "output_type": "stream",
       "stream": "stdout",
       "text": [
        "2014-03-17 15:32:19,847 INFO CLAW: Solution 46 computed for time t=46.000000\n"
       ]
      },
      {
       "output_type": "stream",
       "stream": "stdout",
       "text": [
        "2014-03-17 15:32:19,874 INFO CLAW: Solution 47 computed for time t=47.000000\n"
       ]
      },
      {
       "output_type": "stream",
       "stream": "stdout",
       "text": [
        "2014-03-17 15:32:19,901 INFO CLAW: Solution 48 computed for time t=48.000000\n"
       ]
      },
      {
       "output_type": "stream",
       "stream": "stdout",
       "text": [
        "2014-03-17 15:32:19,928 INFO CLAW: Solution 49 computed for time t=49.000000\n"
       ]
      },
      {
       "output_type": "stream",
       "stream": "stdout",
       "text": [
        "2014-03-17 15:32:19,954 INFO CLAW: Solution 50 computed for time t=50.000000\n"
       ]
      },
      {
       "output_type": "stream",
       "stream": "stdout",
       "text": [
        "2014-03-17 15:32:19,981 INFO CLAW: Solution 51 computed for time t=51.000000\n"
       ]
      },
      {
       "output_type": "stream",
       "stream": "stdout",
       "text": [
        "2014-03-17 15:32:20,007 INFO CLAW: Solution 52 computed for time t=52.000000\n"
       ]
      },
      {
       "output_type": "stream",
       "stream": "stdout",
       "text": [
        "2014-03-17 15:32:20,028 INFO CLAW: Solution 53 computed for time t=53.000000\n"
       ]
      },
      {
       "output_type": "stream",
       "stream": "stdout",
       "text": [
        "2014-03-17 15:32:20,050 INFO CLAW: Solution 54 computed for time t=54.000000\n"
       ]
      },
      {
       "output_type": "stream",
       "stream": "stdout",
       "text": [
        "2014-03-17 15:32:20,074 INFO CLAW: Solution 55 computed for time t=55.000000\n"
       ]
      },
      {
       "output_type": "stream",
       "stream": "stdout",
       "text": [
        "2014-03-17 15:32:20,100 INFO CLAW: Solution 56 computed for time t=56.000000\n"
       ]
      },
      {
       "output_type": "stream",
       "stream": "stdout",
       "text": [
        "2014-03-17 15:32:20,130 INFO CLAW: Solution 57 computed for time t=57.000000\n"
       ]
      },
      {
       "output_type": "stream",
       "stream": "stdout",
       "text": [
        "2014-03-17 15:32:20,154 INFO CLAW: Solution 58 computed for time t=58.000000\n"
       ]
      },
      {
       "output_type": "stream",
       "stream": "stdout",
       "text": [
        "2014-03-17 15:32:20,183 INFO CLAW: Solution 59 computed for time t=59.000000\n"
       ]
      },
      {
       "output_type": "stream",
       "stream": "stdout",
       "text": [
        "2014-03-17 15:32:20,216 INFO CLAW: Solution 60 computed for time t=60.000000\n"
       ]
      },
      {
       "output_type": "stream",
       "stream": "stdout",
       "text": [
        "2014-03-17 15:32:20,252 INFO CLAW: Solution 61 computed for time t=61.000000\n"
       ]
      },
      {
       "output_type": "stream",
       "stream": "stdout",
       "text": [
        "2014-03-17 15:32:20,287 INFO CLAW: Solution 62 computed for time t=62.000000\n"
       ]
      },
      {
       "output_type": "stream",
       "stream": "stdout",
       "text": [
        "2014-03-17 15:32:20,318 INFO CLAW: Solution 63 computed for time t=63.000000\n"
       ]
      },
      {
       "output_type": "stream",
       "stream": "stdout",
       "text": [
        "2014-03-17 15:32:20,349 INFO CLAW: Solution 64 computed for time t=64.000000\n"
       ]
      },
      {
       "output_type": "stream",
       "stream": "stdout",
       "text": [
        "2014-03-17 15:32:20,380 INFO CLAW: Solution 65 computed for time t=65.000000\n"
       ]
      },
      {
       "output_type": "stream",
       "stream": "stdout",
       "text": [
        "2014-03-17 15:32:20,411 INFO CLAW: Solution 66 computed for time t=66.000000\n"
       ]
      },
      {
       "output_type": "stream",
       "stream": "stdout",
       "text": [
        "2014-03-17 15:32:20,440 INFO CLAW: Solution 67 computed for time t=67.000000\n"
       ]
      },
      {
       "output_type": "stream",
       "stream": "stdout",
       "text": [
        "2014-03-17 15:32:20,469 INFO CLAW: Solution 68 computed for time t=68.000000\n"
       ]
      },
      {
       "output_type": "stream",
       "stream": "stdout",
       "text": [
        "2014-03-17 15:32:20,499 INFO CLAW: Solution 69 computed for time t=69.000000\n"
       ]
      },
      {
       "output_type": "stream",
       "stream": "stdout",
       "text": [
        "2014-03-17 15:32:20,525 INFO CLAW: Solution 70 computed for time t=70.000000\n"
       ]
      },
      {
       "output_type": "stream",
       "stream": "stdout",
       "text": [
        "2014-03-17 15:32:20,555 INFO CLAW: Solution 71 computed for time t=71.000000\n"
       ]
      },
      {
       "output_type": "stream",
       "stream": "stdout",
       "text": [
        "2014-03-17 15:32:20,586 INFO CLAW: Solution 72 computed for time t=72.000000\n"
       ]
      },
      {
       "output_type": "stream",
       "stream": "stdout",
       "text": [
        "2014-03-17 15:32:20,621 INFO CLAW: Solution 73 computed for time t=73.000000\n"
       ]
      },
      {
       "output_type": "stream",
       "stream": "stdout",
       "text": [
        "2014-03-17 15:32:20,654 INFO CLAW: Solution 74 computed for time t=74.000000\n"
       ]
      },
      {
       "output_type": "stream",
       "stream": "stdout",
       "text": [
        "2014-03-17 15:32:20,680 INFO CLAW: Solution 75 computed for time t=75.000000\n"
       ]
      },
      {
       "output_type": "stream",
       "stream": "stdout",
       "text": [
        "2014-03-17 15:32:20,707 INFO CLAW: Solution 76 computed for time t=76.000000\n"
       ]
      },
      {
       "output_type": "stream",
       "stream": "stdout",
       "text": [
        "2014-03-17 15:32:20,733 INFO CLAW: Solution 77 computed for time t=77.000000\n"
       ]
      },
      {
       "output_type": "stream",
       "stream": "stdout",
       "text": [
        "2014-03-17 15:32:20,764 INFO CLAW: Solution 78 computed for time t=78.000000\n"
       ]
      },
      {
       "output_type": "stream",
       "stream": "stdout",
       "text": [
        "2014-03-17 15:32:20,783 INFO CLAW: Solution 79 computed for time t=79.000000\n"
       ]
      },
      {
       "output_type": "stream",
       "stream": "stdout",
       "text": [
        "2014-03-17 15:32:20,805 INFO CLAW: Solution 80 computed for time t=80.000000\n"
       ]
      },
      {
       "output_type": "stream",
       "stream": "stdout",
       "text": [
        "2014-03-17 15:32:20,832 INFO CLAW: Solution 81 computed for time t=81.000000\n"
       ]
      },
      {
       "output_type": "stream",
       "stream": "stdout",
       "text": [
        "2014-03-17 15:32:20,860 INFO CLAW: Solution 82 computed for time t=82.000000\n"
       ]
      },
      {
       "output_type": "stream",
       "stream": "stdout",
       "text": [
        "2014-03-17 15:32:20,890 INFO CLAW: Solution 83 computed for time t=83.000000\n"
       ]
      },
      {
       "output_type": "stream",
       "stream": "stdout",
       "text": [
        "2014-03-17 15:32:20,917 INFO CLAW: Solution 84 computed for time t=84.000000\n"
       ]
      },
      {
       "output_type": "stream",
       "stream": "stdout",
       "text": [
        "2014-03-17 15:32:20,949 INFO CLAW: Solution 85 computed for time t=85.000000\n"
       ]
      },
      {
       "output_type": "stream",
       "stream": "stdout",
       "text": [
        "2014-03-17 15:32:20,974 INFO CLAW: Solution 86 computed for time t=86.000000\n"
       ]
      },
      {
       "output_type": "stream",
       "stream": "stdout",
       "text": [
        "2014-03-17 15:32:21,003 INFO CLAW: Solution 87 computed for time t=87.000000\n"
       ]
      },
      {
       "output_type": "stream",
       "stream": "stdout",
       "text": [
        "2014-03-17 15:32:21,023 INFO CLAW: Solution 88 computed for time t=88.000000\n"
       ]
      },
      {
       "output_type": "stream",
       "stream": "stdout",
       "text": [
        "2014-03-17 15:32:21,052 INFO CLAW: Solution 89 computed for time t=89.000000\n"
       ]
      },
      {
       "output_type": "stream",
       "stream": "stdout",
       "text": [
        "2014-03-17 15:32:21,075 INFO CLAW: Solution 90 computed for time t=90.000000\n"
       ]
      },
      {
       "output_type": "stream",
       "stream": "stdout",
       "text": [
        "2014-03-17 15:32:21,106 INFO CLAW: Solution 91 computed for time t=91.000000\n"
       ]
      },
      {
       "output_type": "stream",
       "stream": "stdout",
       "text": [
        "2014-03-17 15:32:21,136 INFO CLAW: Solution 92 computed for time t=92.000000\n"
       ]
      },
      {
       "output_type": "stream",
       "stream": "stdout",
       "text": [
        "2014-03-17 15:32:21,167 INFO CLAW: Solution 93 computed for time t=93.000000\n"
       ]
      },
      {
       "output_type": "stream",
       "stream": "stdout",
       "text": [
        "2014-03-17 15:32:21,197 INFO CLAW: Solution 94 computed for time t=94.000000\n"
       ]
      },
      {
       "output_type": "stream",
       "stream": "stdout",
       "text": [
        "2014-03-17 15:32:21,228 INFO CLAW: Solution 95 computed for time t=95.000000\n"
       ]
      },
      {
       "output_type": "stream",
       "stream": "stdout",
       "text": [
        "2014-03-17 15:32:21,250 INFO CLAW: Solution 96 computed for time t=96.000000\n"
       ]
      },
      {
       "output_type": "stream",
       "stream": "stdout",
       "text": [
        "2014-03-17 15:32:21,278 INFO CLAW: Solution 97 computed for time t=97.000000\n"
       ]
      },
      {
       "output_type": "stream",
       "stream": "stdout",
       "text": [
        "2014-03-17 15:32:21,304 INFO CLAW: Solution 98 computed for time t=98.000000\n"
       ]
      },
      {
       "output_type": "stream",
       "stream": "stdout",
       "text": [
        "2014-03-17 15:32:21,332 INFO CLAW: Solution 99 computed for time t=99.000000\n"
       ]
      },
      {
       "output_type": "stream",
       "stream": "stdout",
       "text": [
        "2014-03-17 15:32:21,358 INFO CLAW: Solution 100 computed for time t=100.000000\n"
       ]
      },
      {
       "output_type": "stream",
       "stream": "stdout",
       "text": [
        "2014-03-17 15:32:21,390 INFO CLAW: Solution 101 computed for time t=101.000000\n"
       ]
      },
      {
       "output_type": "stream",
       "stream": "stdout",
       "text": [
        "2014-03-17 15:32:21,418 INFO CLAW: Solution 102 computed for time t=102.000000\n"
       ]
      },
      {
       "output_type": "stream",
       "stream": "stdout",
       "text": [
        "2014-03-17 15:32:21,450 INFO CLAW: Solution 103 computed for time t=103.000000\n"
       ]
      },
      {
       "output_type": "stream",
       "stream": "stdout",
       "text": [
        "2014-03-17 15:32:21,470 INFO CLAW: Solution 104 computed for time t=104.000000\n"
       ]
      },
      {
       "output_type": "stream",
       "stream": "stdout",
       "text": [
        "2014-03-17 15:32:21,498 INFO CLAW: Solution 105 computed for time t=105.000000\n"
       ]
      },
      {
       "output_type": "stream",
       "stream": "stdout",
       "text": [
        "2014-03-17 15:32:21,526 INFO CLAW: Solution 106 computed for time t=106.000000\n"
       ]
      },
      {
       "output_type": "stream",
       "stream": "stdout",
       "text": [
        "2014-03-17 15:32:21,553 INFO CLAW: Solution 107 computed for time t=107.000000\n"
       ]
      },
      {
       "output_type": "stream",
       "stream": "stdout",
       "text": [
        "2014-03-17 15:32:21,582 INFO CLAW: Solution 108 computed for time t=108.000000\n"
       ]
      },
      {
       "output_type": "stream",
       "stream": "stdout",
       "text": [
        "2014-03-17 15:32:21,616 INFO CLAW: Solution 109 computed for time t=109.000000\n"
       ]
      },
      {
       "output_type": "stream",
       "stream": "stdout",
       "text": [
        "2014-03-17 15:32:21,648 INFO CLAW: Solution 110 computed for time t=110.000000\n"
       ]
      },
      {
       "output_type": "stream",
       "stream": "stdout",
       "text": [
        "2014-03-17 15:32:21,669 INFO CLAW: Solution 111 computed for time t=111.000000\n"
       ]
      },
      {
       "output_type": "stream",
       "stream": "stdout",
       "text": [
        "2014-03-17 15:32:21,704 INFO CLAW: Solution 112 computed for time t=112.000000\n"
       ]
      },
      {
       "output_type": "stream",
       "stream": "stdout",
       "text": [
        "2014-03-17 15:32:21,740 INFO CLAW: Solution 113 computed for time t=113.000000\n"
       ]
      },
      {
       "output_type": "stream",
       "stream": "stdout",
       "text": [
        "2014-03-17 15:32:21,775 INFO CLAW: Solution 114 computed for time t=114.000000\n"
       ]
      },
      {
       "output_type": "stream",
       "stream": "stdout",
       "text": [
        "2014-03-17 15:32:21,809 INFO CLAW: Solution 115 computed for time t=115.000000\n"
       ]
      },
      {
       "output_type": "stream",
       "stream": "stdout",
       "text": [
        "2014-03-17 15:32:21,843 INFO CLAW: Solution 116 computed for time t=116.000000\n"
       ]
      },
      {
       "output_type": "stream",
       "stream": "stdout",
       "text": [
        "2014-03-17 15:32:21,878 INFO CLAW: Solution 117 computed for time t=117.000000\n"
       ]
      },
      {
       "output_type": "stream",
       "stream": "stdout",
       "text": [
        "2014-03-17 15:32:21,911 INFO CLAW: Solution 118 computed for time t=118.000000\n"
       ]
      },
      {
       "output_type": "stream",
       "stream": "stdout",
       "text": [
        "2014-03-17 15:32:21,943 INFO CLAW: Solution 119 computed for time t=119.000000\n"
       ]
      },
      {
       "output_type": "stream",
       "stream": "stdout",
       "text": [
        "2014-03-17 15:32:21,976 INFO CLAW: Solution 120 computed for time t=120.000000\n"
       ]
      },
      {
       "output_type": "stream",
       "stream": "stdout",
       "text": [
        "2014-03-17 15:32:22,010 INFO CLAW: Solution 121 computed for time t=121.000000\n"
       ]
      },
      {
       "output_type": "stream",
       "stream": "stdout",
       "text": [
        "2014-03-17 15:32:22,042 INFO CLAW: Solution 122 computed for time t=122.000000\n"
       ]
      },
      {
       "output_type": "stream",
       "stream": "stdout",
       "text": [
        "2014-03-17 15:32:22,067 INFO CLAW: Solution 123 computed for time t=123.000000\n"
       ]
      },
      {
       "output_type": "stream",
       "stream": "stdout",
       "text": [
        "2014-03-17 15:32:22,092 INFO CLAW: Solution 124 computed for time t=124.000000\n"
       ]
      },
      {
       "output_type": "stream",
       "stream": "stdout",
       "text": [
        "2014-03-17 15:32:22,117 INFO CLAW: Solution 125 computed for time t=125.000000\n"
       ]
      },
      {
       "output_type": "stream",
       "stream": "stdout",
       "text": [
        "2014-03-17 15:32:22,143 INFO CLAW: Solution 126 computed for time t=126.000000\n"
       ]
      },
      {
       "output_type": "stream",
       "stream": "stdout",
       "text": [
        "2014-03-17 15:32:22,173 INFO CLAW: Solution 127 computed for time t=127.000000\n"
       ]
      },
      {
       "output_type": "stream",
       "stream": "stdout",
       "text": [
        "2014-03-17 15:32:22,198 INFO CLAW: Solution 128 computed for time t=128.000000\n"
       ]
      },
      {
       "output_type": "stream",
       "stream": "stdout",
       "text": [
        "2014-03-17 15:32:22,225 INFO CLAW: Solution 129 computed for time t=129.000000\n"
       ]
      },
      {
       "output_type": "stream",
       "stream": "stdout",
       "text": [
        "2014-03-17 15:32:22,256 INFO CLAW: Solution 130 computed for time t=130.000000\n"
       ]
      },
      {
       "output_type": "stream",
       "stream": "stdout",
       "text": [
        "2014-03-17 15:32:22,281 INFO CLAW: Solution 131 computed for time t=131.000000\n"
       ]
      },
      {
       "output_type": "stream",
       "stream": "stdout",
       "text": [
        "2014-03-17 15:32:22,300 INFO CLAW: Solution 132 computed for time t=132.000000\n"
       ]
      },
      {
       "output_type": "stream",
       "stream": "stdout",
       "text": [
        "2014-03-17 15:32:22,326 INFO CLAW: Solution 133 computed for time t=133.000000\n"
       ]
      },
      {
       "output_type": "stream",
       "stream": "stdout",
       "text": [
        "2014-03-17 15:32:22,351 INFO CLAW: Solution 134 computed for time t=134.000000\n"
       ]
      },
      {
       "output_type": "stream",
       "stream": "stdout",
       "text": [
        "2014-03-17 15:32:22,377 INFO CLAW: Solution 135 computed for time t=135.000000\n"
       ]
      },
      {
       "output_type": "stream",
       "stream": "stdout",
       "text": [
        "2014-03-17 15:32:22,404 INFO CLAW: Solution 136 computed for time t=136.000000\n"
       ]
      },
      {
       "output_type": "stream",
       "stream": "stdout",
       "text": [
        "2014-03-17 15:32:22,430 INFO CLAW: Solution 137 computed for time t=137.000000\n"
       ]
      },
      {
       "output_type": "stream",
       "stream": "stdout",
       "text": [
        "2014-03-17 15:32:22,463 INFO CLAW: Solution 138 computed for time t=138.000000\n"
       ]
      },
      {
       "output_type": "stream",
       "stream": "stdout",
       "text": [
        "2014-03-17 15:32:22,491 INFO CLAW: Solution 139 computed for time t=139.000000\n"
       ]
      },
      {
       "output_type": "stream",
       "stream": "stdout",
       "text": [
        "2014-03-17 15:32:22,516 INFO CLAW: Solution 140 computed for time t=140.000000\n"
       ]
      },
      {
       "output_type": "stream",
       "stream": "stdout",
       "text": [
        "2014-03-17 15:32:22,547 INFO CLAW: Solution 141 computed for time t=141.000000\n"
       ]
      },
      {
       "output_type": "stream",
       "stream": "stdout",
       "text": [
        "2014-03-17 15:32:22,574 INFO CLAW: Solution 142 computed for time t=142.000000\n"
       ]
      },
      {
       "output_type": "stream",
       "stream": "stdout",
       "text": [
        "2014-03-17 15:32:22,598 INFO CLAW: Solution 143 computed for time t=143.000000\n"
       ]
      },
      {
       "output_type": "stream",
       "stream": "stdout",
       "text": [
        "2014-03-17 15:32:22,617 INFO CLAW: Solution 144 computed for time t=144.000000\n"
       ]
      },
      {
       "output_type": "stream",
       "stream": "stdout",
       "text": [
        "2014-03-17 15:32:22,641 INFO CLAW: Solution 145 computed for time t=145.000000\n"
       ]
      },
      {
       "output_type": "stream",
       "stream": "stdout",
       "text": [
        "2014-03-17 15:32:22,672 INFO CLAW: Solution 146 computed for time t=146.000000\n"
       ]
      },
      {
       "output_type": "stream",
       "stream": "stdout",
       "text": [
        "2014-03-17 15:32:22,704 INFO CLAW: Solution 147 computed for time t=147.000000\n"
       ]
      },
      {
       "output_type": "stream",
       "stream": "stdout",
       "text": [
        "2014-03-17 15:32:22,736 INFO CLAW: Solution 148 computed for time t=148.000000\n"
       ]
      },
      {
       "output_type": "stream",
       "stream": "stdout",
       "text": [
        "2014-03-17 15:32:22,769 INFO CLAW: Solution 149 computed for time t=149.000000\n"
       ]
      },
      {
       "output_type": "stream",
       "stream": "stdout",
       "text": [
        "2014-03-17 15:32:22,813 INFO CLAW: Solution 150 computed for time t=150.000000\n"
       ]
      },
      {
       "output_type": "stream",
       "stream": "stdout",
       "text": [
        "2014-03-17 15:32:22,853 INFO CLAW: Solution 151 computed for time t=151.000000\n"
       ]
      },
      {
       "output_type": "stream",
       "stream": "stdout",
       "text": [
        "2014-03-17 15:32:22,890 INFO CLAW: Solution 152 computed for time t=152.000000\n"
       ]
      },
      {
       "output_type": "stream",
       "stream": "stdout",
       "text": [
        "2014-03-17 15:32:22,924 INFO CLAW: Solution 153 computed for time t=153.000000\n"
       ]
      },
      {
       "output_type": "stream",
       "stream": "stdout",
       "text": [
        "2014-03-17 15:32:22,955 INFO CLAW: Solution 154 computed for time t=154.000000\n"
       ]
      },
      {
       "output_type": "stream",
       "stream": "stdout",
       "text": [
        "2014-03-17 15:32:22,979 INFO CLAW: Solution 155 computed for time t=155.000000\n"
       ]
      },
      {
       "output_type": "stream",
       "stream": "stdout",
       "text": [
        "2014-03-17 15:32:22,998 INFO CLAW: Solution 156 computed for time t=156.000000\n"
       ]
      },
      {
       "output_type": "stream",
       "stream": "stdout",
       "text": [
        "2014-03-17 15:32:23,019 INFO CLAW: Solution 157 computed for time t=157.000000\n"
       ]
      },
      {
       "output_type": "stream",
       "stream": "stdout",
       "text": [
        "2014-03-17 15:32:23,038 INFO CLAW: Solution 158 computed for time t=158.000000\n"
       ]
      },
      {
       "output_type": "stream",
       "stream": "stdout",
       "text": [
        "2014-03-17 15:32:23,058 INFO CLAW: Solution 159 computed for time t=159.000000\n"
       ]
      },
      {
       "output_type": "stream",
       "stream": "stdout",
       "text": [
        "2014-03-17 15:32:23,077 INFO CLAW: Solution 160 computed for time t=160.000000\n"
       ]
      },
      {
       "output_type": "stream",
       "stream": "stdout",
       "text": [
        "2014-03-17 15:32:23,098 INFO CLAW: Solution 161 computed for time t=161.000000\n"
       ]
      },
      {
       "output_type": "stream",
       "stream": "stdout",
       "text": [
        "2014-03-17 15:32:23,117 INFO CLAW: Solution 162 computed for time t=162.000000\n"
       ]
      },
      {
       "output_type": "stream",
       "stream": "stdout",
       "text": [
        "2014-03-17 15:32:23,137 INFO CLAW: Solution 163 computed for time t=163.000000\n"
       ]
      },
      {
       "output_type": "stream",
       "stream": "stdout",
       "text": [
        "2014-03-17 15:32:23,158 INFO CLAW: Solution 164 computed for time t=164.000000\n"
       ]
      },
      {
       "output_type": "stream",
       "stream": "stdout",
       "text": [
        "2014-03-17 15:32:23,177 INFO CLAW: Solution 165 computed for time t=165.000000\n"
       ]
      },
      {
       "output_type": "stream",
       "stream": "stdout",
       "text": [
        "2014-03-17 15:32:23,196 INFO CLAW: Solution 166 computed for time t=166.000000\n"
       ]
      },
      {
       "output_type": "stream",
       "stream": "stdout",
       "text": [
        "2014-03-17 15:32:23,220 INFO CLAW: Solution 167 computed for time t=167.000000\n"
       ]
      },
      {
       "output_type": "stream",
       "stream": "stdout",
       "text": [
        "2014-03-17 15:32:23,248 INFO CLAW: Solution 168 computed for time t=168.000000\n"
       ]
      },
      {
       "output_type": "stream",
       "stream": "stdout",
       "text": [
        "2014-03-17 15:32:23,276 INFO CLAW: Solution 169 computed for time t=169.000000\n"
       ]
      },
      {
       "output_type": "stream",
       "stream": "stdout",
       "text": [
        "2014-03-17 15:32:23,302 INFO CLAW: Solution 170 computed for time t=170.000000\n"
       ]
      },
      {
       "output_type": "stream",
       "stream": "stdout",
       "text": [
        "2014-03-17 15:32:23,333 INFO CLAW: Solution 171 computed for time t=171.000000\n"
       ]
      },
      {
       "output_type": "stream",
       "stream": "stdout",
       "text": [
        "2014-03-17 15:32:23,362 INFO CLAW: Solution 172 computed for time t=172.000000\n"
       ]
      },
      {
       "output_type": "stream",
       "stream": "stdout",
       "text": [
        "2014-03-17 15:32:23,394 INFO CLAW: Solution 173 computed for time t=173.000000\n"
       ]
      },
      {
       "output_type": "stream",
       "stream": "stdout",
       "text": [
        "2014-03-17 15:32:23,423 INFO CLAW: Solution 174 computed for time t=174.000000\n"
       ]
      },
      {
       "output_type": "stream",
       "stream": "stdout",
       "text": [
        "2014-03-17 15:32:23,450 INFO CLAW: Solution 175 computed for time t=175.000000\n"
       ]
      },
      {
       "output_type": "stream",
       "stream": "stdout",
       "text": [
        "2014-03-17 15:32:23,476 INFO CLAW: Solution 176 computed for time t=176.000000\n"
       ]
      },
      {
       "output_type": "stream",
       "stream": "stdout",
       "text": [
        "2014-03-17 15:32:23,503 INFO CLAW: Solution 177 computed for time t=177.000000\n"
       ]
      },
      {
       "output_type": "stream",
       "stream": "stdout",
       "text": [
        "2014-03-17 15:32:23,530 INFO CLAW: Solution 178 computed for time t=178.000000\n"
       ]
      },
      {
       "output_type": "stream",
       "stream": "stdout",
       "text": [
        "2014-03-17 15:32:23,556 INFO CLAW: Solution 179 computed for time t=179.000000\n"
       ]
      },
      {
       "output_type": "stream",
       "stream": "stdout",
       "text": [
        "2014-03-17 15:32:23,583 INFO CLAW: Solution 180 computed for time t=180.000000\n"
       ]
      },
      {
       "output_type": "stream",
       "stream": "stdout",
       "text": [
        "2014-03-17 15:32:23,609 INFO CLAW: Solution 181 computed for time t=181.000000\n"
       ]
      },
      {
       "output_type": "stream",
       "stream": "stdout",
       "text": [
        "2014-03-17 15:32:23,635 INFO CLAW: Solution 182 computed for time t=182.000000\n"
       ]
      },
      {
       "output_type": "stream",
       "stream": "stdout",
       "text": [
        "2014-03-17 15:32:23,662 INFO CLAW: Solution 183 computed for time t=183.000000\n"
       ]
      },
      {
       "output_type": "stream",
       "stream": "stdout",
       "text": [
        "2014-03-17 15:32:23,688 INFO CLAW: Solution 184 computed for time t=184.000000\n"
       ]
      },
      {
       "output_type": "stream",
       "stream": "stdout",
       "text": [
        "2014-03-17 15:32:23,714 INFO CLAW: Solution 185 computed for time t=185.000000\n"
       ]
      },
      {
       "output_type": "stream",
       "stream": "stdout",
       "text": [
        "2014-03-17 15:32:23,742 INFO CLAW: Solution 186 computed for time t=186.000000\n"
       ]
      },
      {
       "output_type": "stream",
       "stream": "stdout",
       "text": [
        "2014-03-17 15:32:23,775 INFO CLAW: Solution 187 computed for time t=187.000000\n"
       ]
      },
      {
       "output_type": "stream",
       "stream": "stdout",
       "text": [
        "2014-03-17 15:32:23,806 INFO CLAW: Solution 188 computed for time t=188.000000\n"
       ]
      },
      {
       "output_type": "stream",
       "stream": "stdout",
       "text": [
        "2014-03-17 15:32:23,838 INFO CLAW: Solution 189 computed for time t=189.000000\n"
       ]
      },
      {
       "output_type": "stream",
       "stream": "stdout",
       "text": [
        "2014-03-17 15:32:23,865 INFO CLAW: Solution 190 computed for time t=190.000000\n"
       ]
      },
      {
       "output_type": "stream",
       "stream": "stdout",
       "text": [
        "2014-03-17 15:32:23,894 INFO CLAW: Solution 191 computed for time t=191.000000\n"
       ]
      },
      {
       "output_type": "stream",
       "stream": "stdout",
       "text": [
        "2014-03-17 15:32:23,924 INFO CLAW: Solution 192 computed for time t=192.000000\n"
       ]
      },
      {
       "output_type": "stream",
       "stream": "stdout",
       "text": [
        "2014-03-17 15:32:23,955 INFO CLAW: Solution 193 computed for time t=193.000000\n"
       ]
      },
      {
       "output_type": "stream",
       "stream": "stdout",
       "text": [
        "2014-03-17 15:32:23,986 INFO CLAW: Solution 194 computed for time t=194.000000\n"
       ]
      },
      {
       "output_type": "stream",
       "stream": "stdout",
       "text": [
        "2014-03-17 15:32:24,015 INFO CLAW: Solution 195 computed for time t=195.000000\n"
       ]
      },
      {
       "output_type": "stream",
       "stream": "stdout",
       "text": [
        "2014-03-17 15:32:24,040 INFO CLAW: Solution 196 computed for time t=196.000000\n"
       ]
      },
      {
       "output_type": "stream",
       "stream": "stdout",
       "text": [
        "2014-03-17 15:32:24,073 INFO CLAW: Solution 197 computed for time t=197.000000\n"
       ]
      },
      {
       "output_type": "stream",
       "stream": "stdout",
       "text": [
        "2014-03-17 15:32:24,099 INFO CLAW: Solution 198 computed for time t=198.000000\n"
       ]
      },
      {
       "output_type": "stream",
       "stream": "stdout",
       "text": [
        "2014-03-17 15:32:24,126 INFO CLAW: Solution 199 computed for time t=199.000000\n"
       ]
      },
      {
       "output_type": "stream",
       "stream": "stdout",
       "text": [
        "2014-03-17 15:32:24,153 INFO CLAW: Solution 200 computed for time t=200.000000\n"
       ]
      },
      {
       "output_type": "stream",
       "stream": "stdout",
       "text": [
        "2014-03-17 15:32:24,179 INFO CLAW: Solution 201 computed for time t=201.000000\n"
       ]
      },
      {
       "output_type": "stream",
       "stream": "stdout",
       "text": [
        "2014-03-17 15:32:24,204 INFO CLAW: Solution 202 computed for time t=202.000000\n"
       ]
      },
      {
       "output_type": "stream",
       "stream": "stdout",
       "text": [
        "2014-03-17 15:32:24,236 INFO CLAW: Solution 203 computed for time t=203.000000\n"
       ]
      },
      {
       "output_type": "stream",
       "stream": "stdout",
       "text": [
        "2014-03-17 15:32:24,263 INFO CLAW: Solution 204 computed for time t=204.000000\n"
       ]
      },
      {
       "output_type": "stream",
       "stream": "stdout",
       "text": [
        "2014-03-17 15:32:24,297 INFO CLAW: Solution 205 computed for time t=205.000000\n"
       ]
      },
      {
       "output_type": "stream",
       "stream": "stdout",
       "text": [
        "2014-03-17 15:32:24,329 INFO CLAW: Solution 206 computed for time t=206.000000\n"
       ]
      },
      {
       "output_type": "stream",
       "stream": "stdout",
       "text": [
        "2014-03-17 15:32:24,357 INFO CLAW: Solution 207 computed for time t=207.000000\n"
       ]
      },
      {
       "output_type": "stream",
       "stream": "stdout",
       "text": [
        "2014-03-17 15:32:24,385 INFO CLAW: Solution 208 computed for time t=208.000000\n"
       ]
      },
      {
       "output_type": "stream",
       "stream": "stdout",
       "text": [
        "2014-03-17 15:32:24,414 INFO CLAW: Solution 209 computed for time t=209.000000\n"
       ]
      },
      {
       "output_type": "stream",
       "stream": "stdout",
       "text": [
        "2014-03-17 15:32:24,442 INFO CLAW: Solution 210 computed for time t=210.000000\n"
       ]
      },
      {
       "output_type": "stream",
       "stream": "stdout",
       "text": [
        "2014-03-17 15:32:24,468 INFO CLAW: Solution 211 computed for time t=211.000000\n"
       ]
      },
      {
       "output_type": "stream",
       "stream": "stdout",
       "text": [
        "2014-03-17 15:32:24,499 INFO CLAW: Solution 212 computed for time t=212.000000\n"
       ]
      },
      {
       "output_type": "stream",
       "stream": "stdout",
       "text": [
        "2014-03-17 15:32:24,525 INFO CLAW: Solution 213 computed for time t=213.000000\n"
       ]
      },
      {
       "output_type": "stream",
       "stream": "stdout",
       "text": [
        "2014-03-17 15:32:24,552 INFO CLAW: Solution 214 computed for time t=214.000000\n"
       ]
      },
      {
       "output_type": "stream",
       "stream": "stdout",
       "text": [
        "2014-03-17 15:32:24,578 INFO CLAW: Solution 215 computed for time t=215.000000\n"
       ]
      },
      {
       "output_type": "stream",
       "stream": "stdout",
       "text": [
        "2014-03-17 15:32:24,606 INFO CLAW: Solution 216 computed for time t=216.000000\n"
       ]
      },
      {
       "output_type": "stream",
       "stream": "stdout",
       "text": [
        "2014-03-17 15:32:24,633 INFO CLAW: Solution 217 computed for time t=217.000000\n"
       ]
      },
      {
       "output_type": "stream",
       "stream": "stdout",
       "text": [
        "2014-03-17 15:32:24,660 INFO CLAW: Solution 218 computed for time t=218.000000\n"
       ]
      },
      {
       "output_type": "stream",
       "stream": "stdout",
       "text": [
        "2014-03-17 15:32:24,688 INFO CLAW: Solution 219 computed for time t=219.000000\n"
       ]
      },
      {
       "output_type": "stream",
       "stream": "stdout",
       "text": [
        "2014-03-17 15:32:24,712 INFO CLAW: Solution 220 computed for time t=220.000000\n"
       ]
      },
      {
       "output_type": "stream",
       "stream": "stdout",
       "text": [
        "2014-03-17 15:32:24,742 INFO CLAW: Solution 221 computed for time t=221.000000\n"
       ]
      },
      {
       "output_type": "stream",
       "stream": "stdout",
       "text": [
        "2014-03-17 15:32:24,768 INFO CLAW: Solution 222 computed for time t=222.000000\n"
       ]
      },
      {
       "output_type": "stream",
       "stream": "stdout",
       "text": [
        "2014-03-17 15:32:24,796 INFO CLAW: Solution 223 computed for time t=223.000000\n"
       ]
      },
      {
       "output_type": "stream",
       "stream": "stdout",
       "text": [
        "2014-03-17 15:32:24,823 INFO CLAW: Solution 224 computed for time t=224.000000\n"
       ]
      },
      {
       "output_type": "stream",
       "stream": "stdout",
       "text": [
        "2014-03-17 15:32:24,853 INFO CLAW: Solution 225 computed for time t=225.000000\n"
       ]
      },
      {
       "output_type": "stream",
       "stream": "stdout",
       "text": [
        "2014-03-17 15:32:24,873 INFO CLAW: Solution 226 computed for time t=226.000000\n"
       ]
      },
      {
       "output_type": "stream",
       "stream": "stdout",
       "text": [
        "2014-03-17 15:32:24,900 INFO CLAW: Solution 227 computed for time t=227.000000\n"
       ]
      },
      {
       "output_type": "stream",
       "stream": "stdout",
       "text": [
        "2014-03-17 15:32:24,929 INFO CLAW: Solution 228 computed for time t=228.000000\n"
       ]
      },
      {
       "output_type": "stream",
       "stream": "stdout",
       "text": [
        "2014-03-17 15:32:24,952 INFO CLAW: Solution 229 computed for time t=229.000000\n"
       ]
      },
      {
       "output_type": "stream",
       "stream": "stdout",
       "text": [
        "2014-03-17 15:32:24,978 INFO CLAW: Solution 230 computed for time t=230.000000\n"
       ]
      },
      {
       "output_type": "stream",
       "stream": "stdout",
       "text": [
        "2014-03-17 15:32:25,008 INFO CLAW: Solution 231 computed for time t=231.000000\n"
       ]
      },
      {
       "output_type": "stream",
       "stream": "stdout",
       "text": [
        "2014-03-17 15:32:25,035 INFO CLAW: Solution 232 computed for time t=232.000000\n"
       ]
      },
      {
       "output_type": "stream",
       "stream": "stdout",
       "text": [
        "2014-03-17 15:32:25,061 INFO CLAW: Solution 233 computed for time t=233.000000\n"
       ]
      },
      {
       "output_type": "stream",
       "stream": "stdout",
       "text": [
        "2014-03-17 15:32:25,089 INFO CLAW: Solution 234 computed for time t=234.000000\n"
       ]
      },
      {
       "output_type": "stream",
       "stream": "stdout",
       "text": [
        "2014-03-17 15:32:25,111 INFO CLAW: Solution 235 computed for time t=235.000000\n"
       ]
      },
      {
       "output_type": "stream",
       "stream": "stdout",
       "text": [
        "2014-03-17 15:32:25,143 INFO CLAW: Solution 236 computed for time t=236.000000\n"
       ]
      },
      {
       "output_type": "stream",
       "stream": "stdout",
       "text": [
        "2014-03-17 15:32:25,169 INFO CLAW: Solution 237 computed for time t=237.000000\n"
       ]
      },
      {
       "output_type": "stream",
       "stream": "stdout",
       "text": [
        "2014-03-17 15:32:25,195 INFO CLAW: Solution 238 computed for time t=238.000000\n"
       ]
      },
      {
       "output_type": "stream",
       "stream": "stdout",
       "text": [
        "2014-03-17 15:32:25,225 INFO CLAW: Solution 239 computed for time t=239.000000\n"
       ]
      },
      {
       "output_type": "stream",
       "stream": "stdout",
       "text": [
        "2014-03-17 15:32:25,260 INFO CLAW: Solution 240 computed for time t=240.000000\n"
       ]
      },
      {
       "output_type": "stream",
       "stream": "stdout",
       "text": [
        "2014-03-17 15:32:25,286 INFO CLAW: Solution 241 computed for time t=241.000000\n"
       ]
      },
      {
       "output_type": "stream",
       "stream": "stdout",
       "text": [
        "2014-03-17 15:32:25,314 INFO CLAW: Solution 242 computed for time t=242.000000\n"
       ]
      },
      {
       "output_type": "stream",
       "stream": "stdout",
       "text": [
        "2014-03-17 15:32:25,342 INFO CLAW: Solution 243 computed for time t=243.000000\n"
       ]
      },
      {
       "output_type": "stream",
       "stream": "stdout",
       "text": [
        "2014-03-17 15:32:25,370 INFO CLAW: Solution 244 computed for time t=244.000000\n"
       ]
      },
      {
       "output_type": "stream",
       "stream": "stdout",
       "text": [
        "2014-03-17 15:32:25,393 INFO CLAW: Solution 245 computed for time t=245.000000\n"
       ]
      },
      {
       "output_type": "stream",
       "stream": "stdout",
       "text": [
        "2014-03-17 15:32:25,420 INFO CLAW: Solution 246 computed for time t=246.000000\n"
       ]
      },
      {
       "output_type": "stream",
       "stream": "stdout",
       "text": [
        "2014-03-17 15:32:25,448 INFO CLAW: Solution 247 computed for time t=247.000000\n"
       ]
      },
      {
       "output_type": "stream",
       "stream": "stdout",
       "text": [
        "2014-03-17 15:32:25,479 INFO CLAW: Solution 248 computed for time t=248.000000\n"
       ]
      },
      {
       "output_type": "stream",
       "stream": "stdout",
       "text": [
        "2014-03-17 15:32:25,509 INFO CLAW: Solution 249 computed for time t=249.000000\n"
       ]
      },
      {
       "output_type": "stream",
       "stream": "stdout",
       "text": [
        "2014-03-17 15:32:25,539 INFO CLAW: Solution 250 computed for time t=250.000000\n"
       ]
      },
      {
       "output_type": "stream",
       "stream": "stdout",
       "text": [
        "2014-03-17 15:32:25,569 INFO CLAW: Solution 251 computed for time t=251.000000\n"
       ]
      },
      {
       "output_type": "stream",
       "stream": "stdout",
       "text": [
        "2014-03-17 15:32:25,595 INFO CLAW: Solution 252 computed for time t=252.000000\n"
       ]
      },
      {
       "output_type": "stream",
       "stream": "stdout",
       "text": [
        "2014-03-17 15:32:25,627 INFO CLAW: Solution 253 computed for time t=253.000000\n"
       ]
      },
      {
       "output_type": "stream",
       "stream": "stdout",
       "text": [
        "2014-03-17 15:32:25,654 INFO CLAW: Solution 254 computed for time t=254.000000\n"
       ]
      },
      {
       "output_type": "stream",
       "stream": "stdout",
       "text": [
        "2014-03-17 15:32:25,685 INFO CLAW: Solution 255 computed for time t=255.000000\n"
       ]
      },
      {
       "output_type": "stream",
       "stream": "stdout",
       "text": [
        "2014-03-17 15:32:25,710 INFO CLAW: Solution 256 computed for time t=256.000000\n"
       ]
      },
      {
       "output_type": "stream",
       "stream": "stdout",
       "text": [
        "2014-03-17 15:32:25,733 INFO CLAW: Solution 257 computed for time t=257.000000\n"
       ]
      },
      {
       "output_type": "stream",
       "stream": "stdout",
       "text": [
        "2014-03-17 15:32:25,759 INFO CLAW: Solution 258 computed for time t=258.000000\n"
       ]
      },
      {
       "output_type": "stream",
       "stream": "stdout",
       "text": [
        "2014-03-17 15:32:25,790 INFO CLAW: Solution 259 computed for time t=259.000000\n"
       ]
      },
      {
       "output_type": "stream",
       "stream": "stdout",
       "text": [
        "2014-03-17 15:32:25,822 INFO CLAW: Solution 260 computed for time t=260.000000\n"
       ]
      },
      {
       "output_type": "stream",
       "stream": "stdout",
       "text": [
        "2014-03-17 15:32:25,854 INFO CLAW: Solution 261 computed for time t=261.000000\n"
       ]
      },
      {
       "output_type": "stream",
       "stream": "stdout",
       "text": [
        "2014-03-17 15:32:25,883 INFO CLAW: Solution 262 computed for time t=262.000000\n"
       ]
      },
      {
       "output_type": "stream",
       "stream": "stdout",
       "text": [
        "2014-03-17 15:32:25,913 INFO CLAW: Solution 263 computed for time t=263.000000\n"
       ]
      },
      {
       "output_type": "stream",
       "stream": "stdout",
       "text": [
        "2014-03-17 15:32:25,939 INFO CLAW: Solution 264 computed for time t=264.000000\n"
       ]
      },
      {
       "output_type": "stream",
       "stream": "stdout",
       "text": [
        "2014-03-17 15:32:25,968 INFO CLAW: Solution 265 computed for time t=265.000000\n"
       ]
      },
      {
       "output_type": "stream",
       "stream": "stdout",
       "text": [
        "2014-03-17 15:32:25,997 INFO CLAW: Solution 266 computed for time t=266.000000\n"
       ]
      },
      {
       "output_type": "stream",
       "stream": "stdout",
       "text": [
        "2014-03-17 15:32:26,024 INFO CLAW: Solution 267 computed for time t=267.000000\n"
       ]
      },
      {
       "output_type": "stream",
       "stream": "stdout",
       "text": [
        "2014-03-17 15:32:26,059 INFO CLAW: Solution 268 computed for time t=268.000000\n"
       ]
      },
      {
       "output_type": "stream",
       "stream": "stdout",
       "text": [
        "2014-03-17 15:32:26,090 INFO CLAW: Solution 269 computed for time t=269.000000\n"
       ]
      },
      {
       "output_type": "stream",
       "stream": "stdout",
       "text": [
        "2014-03-17 15:32:26,121 INFO CLAW: Solution 270 computed for time t=270.000000\n"
       ]
      },
      {
       "output_type": "stream",
       "stream": "stdout",
       "text": [
        "2014-03-17 15:32:26,150 INFO CLAW: Solution 271 computed for time t=271.000000\n"
       ]
      },
      {
       "output_type": "stream",
       "stream": "stdout",
       "text": [
        "2014-03-17 15:32:26,177 INFO CLAW: Solution 272 computed for time t=272.000000\n"
       ]
      },
      {
       "output_type": "stream",
       "stream": "stdout",
       "text": [
        "2014-03-17 15:32:26,205 INFO CLAW: Solution 273 computed for time t=273.000000\n"
       ]
      },
      {
       "output_type": "stream",
       "stream": "stdout",
       "text": [
        "2014-03-17 15:32:26,235 INFO CLAW: Solution 274 computed for time t=274.000000\n"
       ]
      },
      {
       "output_type": "stream",
       "stream": "stdout",
       "text": [
        "2014-03-17 15:32:26,266 INFO CLAW: Solution 275 computed for time t=275.000000\n"
       ]
      },
      {
       "output_type": "stream",
       "stream": "stdout",
       "text": [
        "2014-03-17 15:32:26,294 INFO CLAW: Solution 276 computed for time t=276.000000\n"
       ]
      },
      {
       "output_type": "stream",
       "stream": "stdout",
       "text": [
        "2014-03-17 15:32:26,323 INFO CLAW: Solution 277 computed for time t=277.000000\n"
       ]
      },
      {
       "output_type": "stream",
       "stream": "stdout",
       "text": [
        "2014-03-17 15:32:26,351 INFO CLAW: Solution 278 computed for time t=278.000000\n"
       ]
      },
      {
       "output_type": "stream",
       "stream": "stdout",
       "text": [
        "2014-03-17 15:32:26,381 INFO CLAW: Solution 279 computed for time t=279.000000\n"
       ]
      },
      {
       "output_type": "stream",
       "stream": "stdout",
       "text": [
        "2014-03-17 15:32:26,408 INFO CLAW: Solution 280 computed for time t=280.000000\n"
       ]
      },
      {
       "output_type": "stream",
       "stream": "stdout",
       "text": [
        "2014-03-17 15:32:26,434 INFO CLAW: Solution 281 computed for time t=281.000000\n"
       ]
      },
      {
       "output_type": "stream",
       "stream": "stdout",
       "text": [
        "2014-03-17 15:32:26,462 INFO CLAW: Solution 282 computed for time t=282.000000\n"
       ]
      },
      {
       "output_type": "stream",
       "stream": "stdout",
       "text": [
        "2014-03-17 15:32:26,489 INFO CLAW: Solution 283 computed for time t=283.000000\n"
       ]
      },
      {
       "output_type": "stream",
       "stream": "stdout",
       "text": [
        "2014-03-17 15:32:26,514 INFO CLAW: Solution 284 computed for time t=284.000000\n"
       ]
      },
      {
       "output_type": "stream",
       "stream": "stdout",
       "text": [
        "2014-03-17 15:32:26,541 INFO CLAW: Solution 285 computed for time t=285.000000\n"
       ]
      },
      {
       "output_type": "stream",
       "stream": "stdout",
       "text": [
        "2014-03-17 15:32:26,568 INFO CLAW: Solution 286 computed for time t=286.000000\n"
       ]
      },
      {
       "output_type": "stream",
       "stream": "stdout",
       "text": [
        "2014-03-17 15:32:26,600 INFO CLAW: Solution 287 computed for time t=287.000000\n"
       ]
      },
      {
       "output_type": "stream",
       "stream": "stdout",
       "text": [
        "2014-03-17 15:32:26,630 INFO CLAW: Solution 288 computed for time t=288.000000\n"
       ]
      },
      {
       "output_type": "stream",
       "stream": "stdout",
       "text": [
        "2014-03-17 15:32:26,660 INFO CLAW: Solution 289 computed for time t=289.000000\n"
       ]
      },
      {
       "output_type": "stream",
       "stream": "stdout",
       "text": [
        "2014-03-17 15:32:26,688 INFO CLAW: Solution 290 computed for time t=290.000000\n"
       ]
      },
      {
       "output_type": "stream",
       "stream": "stdout",
       "text": [
        "2014-03-17 15:32:26,713 INFO CLAW: Solution 291 computed for time t=291.000000\n"
       ]
      },
      {
       "output_type": "stream",
       "stream": "stdout",
       "text": [
        "2014-03-17 15:32:26,737 INFO CLAW: Solution 292 computed for time t=292.000000\n"
       ]
      },
      {
       "output_type": "stream",
       "stream": "stdout",
       "text": [
        "2014-03-17 15:32:26,765 INFO CLAW: Solution 293 computed for time t=293.000000\n"
       ]
      },
      {
       "output_type": "stream",
       "stream": "stdout",
       "text": [
        "2014-03-17 15:32:26,790 INFO CLAW: Solution 294 computed for time t=294.000000\n"
       ]
      },
      {
       "output_type": "stream",
       "stream": "stdout",
       "text": [
        "2014-03-17 15:32:26,816 INFO CLAW: Solution 295 computed for time t=295.000000\n"
       ]
      },
      {
       "output_type": "stream",
       "stream": "stdout",
       "text": [
        "2014-03-17 15:32:26,847 INFO CLAW: Solution 296 computed for time t=296.000000\n"
       ]
      },
      {
       "output_type": "stream",
       "stream": "stdout",
       "text": [
        "2014-03-17 15:32:26,872 INFO CLAW: Solution 297 computed for time t=297.000000\n"
       ]
      },
      {
       "output_type": "stream",
       "stream": "stdout",
       "text": [
        "2014-03-17 15:32:26,898 INFO CLAW: Solution 298 computed for time t=298.000000\n"
       ]
      },
      {
       "output_type": "stream",
       "stream": "stdout",
       "text": [
        "2014-03-17 15:32:26,922 INFO CLAW: Solution 299 computed for time t=299.000000\n"
       ]
      },
      {
       "output_type": "stream",
       "stream": "stdout",
       "text": [
        "2014-03-17 15:32:26,949 INFO CLAW: Solution 300 computed for time t=300.000000\n"
       ]
      },
      {
       "output_type": "stream",
       "stream": "stdout",
       "text": [
        "2014-03-17 15:32:26,979 INFO CLAW: Solution 301 computed for time t=301.000000\n"
       ]
      },
      {
       "output_type": "stream",
       "stream": "stdout",
       "text": [
        "2014-03-17 15:32:27,009 INFO CLAW: Solution 302 computed for time t=302.000000\n"
       ]
      },
      {
       "output_type": "stream",
       "stream": "stdout",
       "text": [
        "2014-03-17 15:32:27,040 INFO CLAW: Solution 303 computed for time t=303.000000\n"
       ]
      },
      {
       "output_type": "stream",
       "stream": "stdout",
       "text": [
        "2014-03-17 15:32:27,070 INFO CLAW: Solution 304 computed for time t=304.000000\n"
       ]
      },
      {
       "output_type": "stream",
       "stream": "stdout",
       "text": [
        "2014-03-17 15:32:27,101 INFO CLAW: Solution 305 computed for time t=305.000000\n"
       ]
      },
      {
       "output_type": "stream",
       "stream": "stdout",
       "text": [
        "2014-03-17 15:32:27,132 INFO CLAW: Solution 306 computed for time t=306.000000\n"
       ]
      },
      {
       "output_type": "stream",
       "stream": "stdout",
       "text": [
        "2014-03-17 15:32:27,163 INFO CLAW: Solution 307 computed for time t=307.000000\n"
       ]
      },
      {
       "output_type": "stream",
       "stream": "stdout",
       "text": [
        "2014-03-17 15:32:27,194 INFO CLAW: Solution 308 computed for time t=308.000000\n"
       ]
      },
      {
       "output_type": "stream",
       "stream": "stdout",
       "text": [
        "2014-03-17 15:32:27,225 INFO CLAW: Solution 309 computed for time t=309.000000\n"
       ]
      },
      {
       "output_type": "stream",
       "stream": "stdout",
       "text": [
        "2014-03-17 15:32:27,258 INFO CLAW: Solution 310 computed for time t=310.000000\n"
       ]
      },
      {
       "output_type": "stream",
       "stream": "stdout",
       "text": [
        "2014-03-17 15:32:27,289 INFO CLAW: Solution 311 computed for time t=311.000000\n"
       ]
      },
      {
       "output_type": "stream",
       "stream": "stdout",
       "text": [
        "2014-03-17 15:32:27,320 INFO CLAW: Solution 312 computed for time t=312.000000\n"
       ]
      },
      {
       "output_type": "stream",
       "stream": "stdout",
       "text": [
        "2014-03-17 15:32:27,351 INFO CLAW: Solution 313 computed for time t=313.000000\n"
       ]
      },
      {
       "output_type": "stream",
       "stream": "stdout",
       "text": [
        "2014-03-17 15:32:27,382 INFO CLAW: Solution 314 computed for time t=314.000000\n"
       ]
      },
      {
       "output_type": "stream",
       "stream": "stdout",
       "text": [
        "2014-03-17 15:32:27,412 INFO CLAW: Solution 315 computed for time t=315.000000\n"
       ]
      },
      {
       "output_type": "stream",
       "stream": "stdout",
       "text": [
        "2014-03-17 15:32:27,443 INFO CLAW: Solution 316 computed for time t=316.000000\n"
       ]
      },
      {
       "output_type": "stream",
       "stream": "stdout",
       "text": [
        "2014-03-17 15:32:27,474 INFO CLAW: Solution 317 computed for time t=317.000000\n"
       ]
      },
      {
       "output_type": "stream",
       "stream": "stdout",
       "text": [
        "2014-03-17 15:32:27,504 INFO CLAW: Solution 318 computed for time t=318.000000\n"
       ]
      },
      {
       "output_type": "stream",
       "stream": "stdout",
       "text": [
        "2014-03-17 15:32:27,535 INFO CLAW: Solution 319 computed for time t=319.000000\n"
       ]
      },
      {
       "output_type": "stream",
       "stream": "stdout",
       "text": [
        "2014-03-17 15:32:27,567 INFO CLAW: Solution 320 computed for time t=320.000000\n"
       ]
      },
      {
       "output_type": "stream",
       "stream": "stdout",
       "text": [
        "2014-03-17 15:32:27,598 INFO CLAW: Solution 321 computed for time t=321.000000\n"
       ]
      },
      {
       "output_type": "stream",
       "stream": "stdout",
       "text": [
        "2014-03-17 15:32:27,629 INFO CLAW: Solution 322 computed for time t=322.000000\n"
       ]
      },
      {
       "output_type": "stream",
       "stream": "stdout",
       "text": [
        "2014-03-17 15:32:27,660 INFO CLAW: Solution 323 computed for time t=323.000000\n"
       ]
      },
      {
       "output_type": "stream",
       "stream": "stdout",
       "text": [
        "2014-03-17 15:32:27,691 INFO CLAW: Solution 324 computed for time t=324.000000\n"
       ]
      },
      {
       "output_type": "stream",
       "stream": "stdout",
       "text": [
        "2014-03-17 15:32:27,723 INFO CLAW: Solution 325 computed for time t=325.000000\n"
       ]
      },
      {
       "output_type": "stream",
       "stream": "stdout",
       "text": [
        "2014-03-17 15:32:27,755 INFO CLAW: Solution 326 computed for time t=326.000000\n"
       ]
      },
      {
       "output_type": "stream",
       "stream": "stdout",
       "text": [
        "2014-03-17 15:32:27,787 INFO CLAW: Solution 327 computed for time t=327.000000\n"
       ]
      },
      {
       "output_type": "stream",
       "stream": "stdout",
       "text": [
        "2014-03-17 15:32:27,818 INFO CLAW: Solution 328 computed for time t=328.000000\n"
       ]
      },
      {
       "output_type": "stream",
       "stream": "stdout",
       "text": [
        "2014-03-17 15:32:27,850 INFO CLAW: Solution 329 computed for time t=329.000000\n"
       ]
      },
      {
       "output_type": "stream",
       "stream": "stdout",
       "text": [
        "2014-03-17 15:32:27,881 INFO CLAW: Solution 330 computed for time t=330.000000\n"
       ]
      },
      {
       "output_type": "stream",
       "stream": "stdout",
       "text": [
        "2014-03-17 15:32:27,911 INFO CLAW: Solution 331 computed for time t=331.000000\n"
       ]
      },
      {
       "output_type": "stream",
       "stream": "stdout",
       "text": [
        "2014-03-17 15:32:27,943 INFO CLAW: Solution 332 computed for time t=332.000000\n"
       ]
      },
      {
       "output_type": "stream",
       "stream": "stdout",
       "text": [
        "2014-03-17 15:32:27,974 INFO CLAW: Solution 333 computed for time t=333.000000\n"
       ]
      },
      {
       "output_type": "stream",
       "stream": "stdout",
       "text": [
        "2014-03-17 15:32:28,005 INFO CLAW: Solution 334 computed for time t=334.000000\n"
       ]
      },
      {
       "output_type": "stream",
       "stream": "stdout",
       "text": [
        "2014-03-17 15:32:28,035 INFO CLAW: Solution 335 computed for time t=335.000000\n"
       ]
      },
      {
       "output_type": "stream",
       "stream": "stdout",
       "text": [
        "2014-03-17 15:32:28,066 INFO CLAW: Solution 336 computed for time t=336.000000\n"
       ]
      },
      {
       "output_type": "stream",
       "stream": "stdout",
       "text": [
        "2014-03-17 15:32:28,098 INFO CLAW: Solution 337 computed for time t=337.000000\n"
       ]
      },
      {
       "output_type": "stream",
       "stream": "stdout",
       "text": [
        "2014-03-17 15:32:28,128 INFO CLAW: Solution 338 computed for time t=338.000000\n"
       ]
      },
      {
       "output_type": "stream",
       "stream": "stdout",
       "text": [
        "2014-03-17 15:32:28,159 INFO CLAW: Solution 339 computed for time t=339.000000\n"
       ]
      },
      {
       "output_type": "stream",
       "stream": "stdout",
       "text": [
        "2014-03-17 15:32:28,190 INFO CLAW: Solution 340 computed for time t=340.000000\n"
       ]
      },
      {
       "output_type": "stream",
       "stream": "stdout",
       "text": [
        "2014-03-17 15:32:28,221 INFO CLAW: Solution 341 computed for time t=341.000000\n"
       ]
      },
      {
       "output_type": "stream",
       "stream": "stdout",
       "text": [
        "2014-03-17 15:32:28,253 INFO CLAW: Solution 342 computed for time t=342.000000\n"
       ]
      },
      {
       "output_type": "stream",
       "stream": "stdout",
       "text": [
        "2014-03-17 15:32:28,278 INFO CLAW: Solution 343 computed for time t=343.000000\n"
       ]
      },
      {
       "output_type": "stream",
       "stream": "stdout",
       "text": [
        "2014-03-17 15:32:28,297 INFO CLAW: Solution 344 computed for time t=344.000000\n"
       ]
      },
      {
       "output_type": "stream",
       "stream": "stdout",
       "text": [
        "2014-03-17 15:32:28,320 INFO CLAW: Solution 345 computed for time t=345.000000\n"
       ]
      },
      {
       "output_type": "stream",
       "stream": "stdout",
       "text": [
        "2014-03-17 15:32:28,339 INFO CLAW: Solution 346 computed for time t=346.000000\n"
       ]
      },
      {
       "output_type": "stream",
       "stream": "stdout",
       "text": [
        "2014-03-17 15:32:28,362 INFO CLAW: Solution 347 computed for time t=347.000000\n"
       ]
      },
      {
       "output_type": "stream",
       "stream": "stdout",
       "text": [
        "2014-03-17 15:32:28,384 INFO CLAW: Solution 348 computed for time t=348.000000\n"
       ]
      },
      {
       "output_type": "stream",
       "stream": "stdout",
       "text": [
        "2014-03-17 15:32:28,413 INFO CLAW: Solution 349 computed for time t=349.000000\n"
       ]
      },
      {
       "output_type": "stream",
       "stream": "stdout",
       "text": [
        "2014-03-17 15:32:28,439 INFO CLAW: Solution 350 computed for time t=350.000000\n"
       ]
      },
      {
       "output_type": "stream",
       "stream": "stdout",
       "text": [
        "2014-03-17 15:32:28,472 INFO CLAW: Solution 351 computed for time t=351.000000\n"
       ]
      },
      {
       "output_type": "stream",
       "stream": "stdout",
       "text": [
        "2014-03-17 15:32:28,499 INFO CLAW: Solution 352 computed for time t=352.000000\n"
       ]
      },
      {
       "output_type": "stream",
       "stream": "stdout",
       "text": [
        "2014-03-17 15:32:28,526 INFO CLAW: Solution 353 computed for time t=353.000000\n"
       ]
      },
      {
       "output_type": "stream",
       "stream": "stdout",
       "text": [
        "2014-03-17 15:32:28,552 INFO CLAW: Solution 354 computed for time t=354.000000\n"
       ]
      },
      {
       "output_type": "stream",
       "stream": "stdout",
       "text": [
        "2014-03-17 15:32:28,579 INFO CLAW: Solution 355 computed for time t=355.000000\n"
       ]
      },
      {
       "output_type": "stream",
       "stream": "stdout",
       "text": [
        "2014-03-17 15:32:28,606 INFO CLAW: Solution 356 computed for time t=356.000000\n"
       ]
      },
      {
       "output_type": "stream",
       "stream": "stdout",
       "text": [
        "2014-03-17 15:32:28,629 INFO CLAW: Solution 357 computed for time t=357.000000\n"
       ]
      },
      {
       "output_type": "stream",
       "stream": "stdout",
       "text": [
        "2014-03-17 15:32:28,648 INFO CLAW: Solution 358 computed for time t=358.000000\n"
       ]
      },
      {
       "output_type": "stream",
       "stream": "stdout",
       "text": [
        "2014-03-17 15:32:28,683 INFO CLAW: Solution 359 computed for time t=359.000000\n"
       ]
      },
      {
       "output_type": "stream",
       "stream": "stdout",
       "text": [
        "2014-03-17 15:32:28,718 INFO CLAW: Solution 360 computed for time t=360.000000\n"
       ]
      },
      {
       "output_type": "stream",
       "stream": "stdout",
       "text": [
        "2014-03-17 15:32:28,741 INFO CLAW: Solution 361 computed for time t=361.000000\n"
       ]
      },
      {
       "output_type": "stream",
       "stream": "stdout",
       "text": [
        "2014-03-17 15:32:28,775 INFO CLAW: Solution 362 computed for time t=362.000000\n"
       ]
      },
      {
       "output_type": "stream",
       "stream": "stdout",
       "text": [
        "2014-03-17 15:32:28,808 INFO CLAW: Solution 363 computed for time t=363.000000\n"
       ]
      },
      {
       "output_type": "stream",
       "stream": "stdout",
       "text": [
        "2014-03-17 15:32:28,835 INFO CLAW: Solution 364 computed for time t=364.000000\n"
       ]
      },
      {
       "output_type": "stream",
       "stream": "stdout",
       "text": [
        "2014-03-17 15:32:28,861 INFO CLAW: Solution 365 computed for time t=365.000000\n"
       ]
      },
      {
       "output_type": "stream",
       "stream": "stdout",
       "text": [
        "2014-03-17 15:32:28,890 INFO CLAW: Solution 366 computed for time t=366.000000\n"
       ]
      },
      {
       "output_type": "stream",
       "stream": "stdout",
       "text": [
        "2014-03-17 15:32:28,921 INFO CLAW: Solution 367 computed for time t=367.000000\n"
       ]
      },
      {
       "output_type": "stream",
       "stream": "stdout",
       "text": [
        "2014-03-17 15:32:28,947 INFO CLAW: Solution 368 computed for time t=368.000000\n"
       ]
      },
      {
       "output_type": "stream",
       "stream": "stdout",
       "text": [
        "2014-03-17 15:32:28,974 INFO CLAW: Solution 369 computed for time t=369.000000\n"
       ]
      },
      {
       "output_type": "stream",
       "stream": "stdout",
       "text": [
        "2014-03-17 15:32:29,004 INFO CLAW: Solution 370 computed for time t=370.000000\n"
       ]
      },
      {
       "output_type": "stream",
       "stream": "stdout",
       "text": [
        "2014-03-17 15:32:29,031 INFO CLAW: Solution 371 computed for time t=371.000000\n"
       ]
      },
      {
       "output_type": "stream",
       "stream": "stdout",
       "text": [
        "2014-03-17 15:32:29,057 INFO CLAW: Solution 372 computed for time t=372.000000\n"
       ]
      },
      {
       "output_type": "stream",
       "stream": "stdout",
       "text": [
        "2014-03-17 15:32:29,083 INFO CLAW: Solution 373 computed for time t=373.000000\n"
       ]
      },
      {
       "output_type": "stream",
       "stream": "stdout",
       "text": [
        "2014-03-17 15:32:29,110 INFO CLAW: Solution 374 computed for time t=374.000000\n"
       ]
      },
      {
       "output_type": "stream",
       "stream": "stdout",
       "text": [
        "2014-03-17 15:32:29,138 INFO CLAW: Solution 375 computed for time t=375.000000\n"
       ]
      },
      {
       "output_type": "stream",
       "stream": "stdout",
       "text": [
        "2014-03-17 15:32:29,165 INFO CLAW: Solution 376 computed for time t=376.000000\n"
       ]
      },
      {
       "output_type": "stream",
       "stream": "stdout",
       "text": [
        "2014-03-17 15:32:29,193 INFO CLAW: Solution 377 computed for time t=377.000000\n"
       ]
      },
      {
       "output_type": "stream",
       "stream": "stdout",
       "text": [
        "2014-03-17 15:32:29,219 INFO CLAW: Solution 378 computed for time t=378.000000\n"
       ]
      },
      {
       "output_type": "stream",
       "stream": "stdout",
       "text": [
        "2014-03-17 15:32:29,247 INFO CLAW: Solution 379 computed for time t=379.000000\n"
       ]
      },
      {
       "output_type": "stream",
       "stream": "stdout",
       "text": [
        "2014-03-17 15:32:29,276 INFO CLAW: Solution 380 computed for time t=380.000000\n"
       ]
      },
      {
       "output_type": "stream",
       "stream": "stdout",
       "text": [
        "2014-03-17 15:32:29,307 INFO CLAW: Solution 381 computed for time t=381.000000\n"
       ]
      },
      {
       "output_type": "stream",
       "stream": "stdout",
       "text": [
        "2014-03-17 15:32:29,338 INFO CLAW: Solution 382 computed for time t=382.000000\n"
       ]
      },
      {
       "output_type": "stream",
       "stream": "stdout",
       "text": [
        "2014-03-17 15:32:29,365 INFO CLAW: Solution 383 computed for time t=383.000000\n"
       ]
      },
      {
       "output_type": "stream",
       "stream": "stdout",
       "text": [
        "2014-03-17 15:32:29,392 INFO CLAW: Solution 384 computed for time t=384.000000\n"
       ]
      },
      {
       "output_type": "stream",
       "stream": "stdout",
       "text": [
        "2014-03-17 15:32:29,417 INFO CLAW: Solution 385 computed for time t=385.000000\n"
       ]
      },
      {
       "output_type": "stream",
       "stream": "stdout",
       "text": [
        "2014-03-17 15:32:29,448 INFO CLAW: Solution 386 computed for time t=386.000000\n"
       ]
      },
      {
       "output_type": "stream",
       "stream": "stdout",
       "text": [
        "2014-03-17 15:32:29,473 INFO CLAW: Solution 387 computed for time t=387.000000\n"
       ]
      },
      {
       "output_type": "stream",
       "stream": "stdout",
       "text": [
        "2014-03-17 15:32:29,499 INFO CLAW: Solution 388 computed for time t=388.000000\n"
       ]
      },
      {
       "output_type": "stream",
       "stream": "stdout",
       "text": [
        "2014-03-17 15:32:29,525 INFO CLAW: Solution 389 computed for time t=389.000000\n"
       ]
      },
      {
       "output_type": "stream",
       "stream": "stdout",
       "text": [
        "2014-03-17 15:32:29,554 INFO CLAW: Solution 390 computed for time t=390.000000\n"
       ]
      },
      {
       "output_type": "stream",
       "stream": "stdout",
       "text": [
        "2014-03-17 15:32:29,576 INFO CLAW: Solution 391 computed for time t=391.000000\n"
       ]
      },
      {
       "output_type": "stream",
       "stream": "stdout",
       "text": [
        "2014-03-17 15:32:29,604 INFO CLAW: Solution 392 computed for time t=392.000000\n"
       ]
      },
      {
       "output_type": "stream",
       "stream": "stdout",
       "text": [
        "2014-03-17 15:32:29,630 INFO CLAW: Solution 393 computed for time t=393.000000\n"
       ]
      },
      {
       "output_type": "stream",
       "stream": "stdout",
       "text": [
        "2014-03-17 15:32:29,656 INFO CLAW: Solution 394 computed for time t=394.000000\n"
       ]
      },
      {
       "output_type": "stream",
       "stream": "stdout",
       "text": [
        "2014-03-17 15:32:29,682 INFO CLAW: Solution 395 computed for time t=395.000000\n"
       ]
      },
      {
       "output_type": "stream",
       "stream": "stdout",
       "text": [
        "2014-03-17 15:32:29,709 INFO CLAW: Solution 396 computed for time t=396.000000\n"
       ]
      },
      {
       "output_type": "stream",
       "stream": "stdout",
       "text": [
        "2014-03-17 15:32:29,732 INFO CLAW: Solution 397 computed for time t=397.000000\n"
       ]
      },
      {
       "output_type": "stream",
       "stream": "stdout",
       "text": [
        "2014-03-17 15:32:29,756 INFO CLAW: Solution 398 computed for time t=398.000000\n"
       ]
      },
      {
       "output_type": "stream",
       "stream": "stdout",
       "text": [
        "2014-03-17 15:32:29,782 INFO CLAW: Solution 399 computed for time t=399.000000\n"
       ]
      },
      {
       "output_type": "stream",
       "stream": "stdout",
       "text": [
        "2014-03-17 15:32:29,804 INFO CLAW: Solution 400 computed for time t=400.000000\n"
       ]
      },
      {
       "output_type": "stream",
       "stream": "stdout",
       "text": [
        "2014-03-17 15:32:29,827 INFO CLAW: Solution 401 computed for time t=401.000000\n"
       ]
      },
      {
       "output_type": "stream",
       "stream": "stdout",
       "text": [
        "2014-03-17 15:32:29,854 INFO CLAW: Solution 402 computed for time t=402.000000\n"
       ]
      },
      {
       "output_type": "stream",
       "stream": "stdout",
       "text": [
        "2014-03-17 15:32:29,885 INFO CLAW: Solution 403 computed for time t=403.000000\n"
       ]
      },
      {
       "output_type": "stream",
       "stream": "stdout",
       "text": [
        "2014-03-17 15:32:29,912 INFO CLAW: Solution 404 computed for time t=404.000000\n"
       ]
      },
      {
       "output_type": "stream",
       "stream": "stdout",
       "text": [
        "2014-03-17 15:32:29,939 INFO CLAW: Solution 405 computed for time t=405.000000\n"
       ]
      },
      {
       "output_type": "stream",
       "stream": "stdout",
       "text": [
        "2014-03-17 15:32:29,966 INFO CLAW: Solution 406 computed for time t=406.000000\n"
       ]
      },
      {
       "output_type": "stream",
       "stream": "stdout",
       "text": [
        "2014-03-17 15:32:29,993 INFO CLAW: Solution 407 computed for time t=407.000000\n"
       ]
      },
      {
       "output_type": "stream",
       "stream": "stdout",
       "text": [
        "2014-03-17 15:32:30,019 INFO CLAW: Solution 408 computed for time t=408.000000\n"
       ]
      },
      {
       "output_type": "stream",
       "stream": "stdout",
       "text": [
        "2014-03-17 15:32:30,046 INFO CLAW: Solution 409 computed for time t=409.000000\n"
       ]
      },
      {
       "output_type": "stream",
       "stream": "stdout",
       "text": [
        "2014-03-17 15:32:30,076 INFO CLAW: Solution 410 computed for time t=410.000000\n"
       ]
      },
      {
       "output_type": "stream",
       "stream": "stdout",
       "text": [
        "2014-03-17 15:32:30,108 INFO CLAW: Solution 411 computed for time t=411.000000\n"
       ]
      },
      {
       "output_type": "stream",
       "stream": "stdout",
       "text": [
        "2014-03-17 15:32:30,133 INFO CLAW: Solution 412 computed for time t=412.000000\n"
       ]
      },
      {
       "output_type": "stream",
       "stream": "stdout",
       "text": [
        "2014-03-17 15:32:30,162 INFO CLAW: Solution 413 computed for time t=413.000000\n"
       ]
      },
      {
       "output_type": "stream",
       "stream": "stdout",
       "text": [
        "2014-03-17 15:32:30,189 INFO CLAW: Solution 414 computed for time t=414.000000\n"
       ]
      },
      {
       "output_type": "stream",
       "stream": "stdout",
       "text": [
        "2014-03-17 15:32:30,217 INFO CLAW: Solution 415 computed for time t=415.000000\n"
       ]
      },
      {
       "output_type": "stream",
       "stream": "stdout",
       "text": [
        "2014-03-17 15:32:30,251 INFO CLAW: Solution 416 computed for time t=416.000000\n"
       ]
      },
      {
       "output_type": "stream",
       "stream": "stdout",
       "text": [
        "2014-03-17 15:32:30,299 INFO CLAW: Solution 417 computed for time t=417.000000\n"
       ]
      },
      {
       "output_type": "stream",
       "stream": "stdout",
       "text": [
        "2014-03-17 15:32:30,329 INFO CLAW: Solution 418 computed for time t=418.000000\n"
       ]
      },
      {
       "output_type": "stream",
       "stream": "stdout",
       "text": [
        "2014-03-17 15:32:30,353 INFO CLAW: Solution 419 computed for time t=419.000000\n"
       ]
      },
      {
       "output_type": "stream",
       "stream": "stdout",
       "text": [
        "2014-03-17 15:32:30,380 INFO CLAW: Solution 420 computed for time t=420.000000\n"
       ]
      },
      {
       "output_type": "stream",
       "stream": "stdout",
       "text": [
        "2014-03-17 15:32:30,406 INFO CLAW: Solution 421 computed for time t=421.000000\n"
       ]
      },
      {
       "output_type": "stream",
       "stream": "stdout",
       "text": [
        "2014-03-17 15:32:30,432 INFO CLAW: Solution 422 computed for time t=422.000000\n"
       ]
      },
      {
       "output_type": "stream",
       "stream": "stdout",
       "text": [
        "2014-03-17 15:32:30,459 INFO CLAW: Solution 423 computed for time t=423.000000\n"
       ]
      },
      {
       "output_type": "stream",
       "stream": "stdout",
       "text": [
        "2014-03-17 15:32:30,487 INFO CLAW: Solution 424 computed for time t=424.000000\n"
       ]
      },
      {
       "output_type": "stream",
       "stream": "stdout",
       "text": [
        "2014-03-17 15:32:30,515 INFO CLAW: Solution 425 computed for time t=425.000000\n"
       ]
      },
      {
       "output_type": "stream",
       "stream": "stdout",
       "text": [
        "2014-03-17 15:32:30,542 INFO CLAW: Solution 426 computed for time t=426.000000\n"
       ]
      },
      {
       "output_type": "stream",
       "stream": "stdout",
       "text": [
        "2014-03-17 15:32:30,571 INFO CLAW: Solution 427 computed for time t=427.000000\n"
       ]
      },
      {
       "output_type": "stream",
       "stream": "stdout",
       "text": [
        "2014-03-17 15:32:30,595 INFO CLAW: Solution 428 computed for time t=428.000000\n"
       ]
      },
      {
       "output_type": "stream",
       "stream": "stdout",
       "text": [
        "2014-03-17 15:32:30,623 INFO CLAW: Solution 429 computed for time t=429.000000\n"
       ]
      },
      {
       "output_type": "stream",
       "stream": "stdout",
       "text": [
        "2014-03-17 15:32:30,651 INFO CLAW: Solution 430 computed for time t=430.000000\n"
       ]
      },
      {
       "output_type": "stream",
       "stream": "stdout",
       "text": [
        "2014-03-17 15:32:30,680 INFO CLAW: Solution 431 computed for time t=431.000000\n"
       ]
      },
      {
       "output_type": "stream",
       "stream": "stdout",
       "text": [
        "2014-03-17 15:32:30,710 INFO CLAW: Solution 432 computed for time t=432.000000\n"
       ]
      },
      {
       "output_type": "stream",
       "stream": "stdout",
       "text": [
        "2014-03-17 15:32:30,738 INFO CLAW: Solution 433 computed for time t=433.000000\n"
       ]
      },
      {
       "output_type": "stream",
       "stream": "stdout",
       "text": [
        "2014-03-17 15:32:30,769 INFO CLAW: Solution 434 computed for time t=434.000000\n"
       ]
      },
      {
       "output_type": "stream",
       "stream": "stdout",
       "text": [
        "2014-03-17 15:32:30,799 INFO CLAW: Solution 435 computed for time t=435.000000\n"
       ]
      },
      {
       "output_type": "stream",
       "stream": "stdout",
       "text": [
        "2014-03-17 15:32:30,826 INFO CLAW: Solution 436 computed for time t=436.000000\n"
       ]
      },
      {
       "output_type": "stream",
       "stream": "stdout",
       "text": [
        "2014-03-17 15:32:30,853 INFO CLAW: Solution 437 computed for time t=437.000000\n"
       ]
      },
      {
       "output_type": "stream",
       "stream": "stdout",
       "text": [
        "2014-03-17 15:32:30,882 INFO CLAW: Solution 438 computed for time t=438.000000\n"
       ]
      },
      {
       "output_type": "stream",
       "stream": "stdout",
       "text": [
        "2014-03-17 15:32:30,903 INFO CLAW: Solution 439 computed for time t=439.000000\n"
       ]
      },
      {
       "output_type": "stream",
       "stream": "stdout",
       "text": [
        "2014-03-17 15:32:30,930 INFO CLAW: Solution 440 computed for time t=440.000000\n"
       ]
      },
      {
       "output_type": "stream",
       "stream": "stdout",
       "text": [
        "2014-03-17 15:32:30,955 INFO CLAW: Solution 441 computed for time t=441.000000\n"
       ]
      },
      {
       "output_type": "stream",
       "stream": "stdout",
       "text": [
        "2014-03-17 15:32:30,987 INFO CLAW: Solution 442 computed for time t=442.000000\n"
       ]
      },
      {
       "output_type": "stream",
       "stream": "stdout",
       "text": [
        "2014-03-17 15:32:31,013 INFO CLAW: Solution 443 computed for time t=443.000000\n"
       ]
      },
      {
       "output_type": "stream",
       "stream": "stdout",
       "text": [
        "2014-03-17 15:32:31,035 INFO CLAW: Solution 444 computed for time t=444.000000\n"
       ]
      },
      {
       "output_type": "stream",
       "stream": "stdout",
       "text": [
        "2014-03-17 15:32:31,059 INFO CLAW: Solution 445 computed for time t=445.000000\n"
       ]
      },
      {
       "output_type": "stream",
       "stream": "stdout",
       "text": [
        "2014-03-17 15:32:31,084 INFO CLAW: Solution 446 computed for time t=446.000000\n"
       ]
      },
      {
       "output_type": "stream",
       "stream": "stdout",
       "text": [
        "2014-03-17 15:32:31,111 INFO CLAW: Solution 447 computed for time t=447.000000\n"
       ]
      },
      {
       "output_type": "stream",
       "stream": "stdout",
       "text": [
        "2014-03-17 15:32:31,137 INFO CLAW: Solution 448 computed for time t=448.000000\n"
       ]
      },
      {
       "output_type": "stream",
       "stream": "stdout",
       "text": [
        "2014-03-17 15:32:31,162 INFO CLAW: Solution 449 computed for time t=449.000000\n"
       ]
      },
      {
       "output_type": "stream",
       "stream": "stdout",
       "text": [
        "2014-03-17 15:32:31,189 INFO CLAW: Solution 450 computed for time t=450.000000\n"
       ]
      },
      {
       "output_type": "stream",
       "stream": "stdout",
       "text": [
        "2014-03-17 15:32:31,215 INFO CLAW: Solution 451 computed for time t=451.000000\n"
       ]
      },
      {
       "output_type": "stream",
       "stream": "stdout",
       "text": [
        "2014-03-17 15:32:31,241 INFO CLAW: Solution 452 computed for time t=452.000000\n"
       ]
      },
      {
       "output_type": "stream",
       "stream": "stdout",
       "text": [
        "2014-03-17 15:32:31,269 INFO CLAW: Solution 453 computed for time t=453.000000\n"
       ]
      },
      {
       "output_type": "stream",
       "stream": "stdout",
       "text": [
        "2014-03-17 15:32:31,302 INFO CLAW: Solution 454 computed for time t=454.000000\n"
       ]
      },
      {
       "output_type": "stream",
       "stream": "stdout",
       "text": [
        "2014-03-17 15:32:31,326 INFO CLAW: Solution 455 computed for time t=455.000000\n"
       ]
      },
      {
       "output_type": "stream",
       "stream": "stdout",
       "text": [
        "2014-03-17 15:32:31,353 INFO CLAW: Solution 456 computed for time t=456.000000\n"
       ]
      },
      {
       "output_type": "stream",
       "stream": "stdout",
       "text": [
        "2014-03-17 15:32:31,378 INFO CLAW: Solution 457 computed for time t=457.000000\n"
       ]
      },
      {
       "output_type": "stream",
       "stream": "stdout",
       "text": [
        "2014-03-17 15:32:31,408 INFO CLAW: Solution 458 computed for time t=458.000000\n"
       ]
      },
      {
       "output_type": "stream",
       "stream": "stdout",
       "text": [
        "2014-03-17 15:32:31,435 INFO CLAW: Solution 459 computed for time t=459.000000\n"
       ]
      },
      {
       "output_type": "stream",
       "stream": "stdout",
       "text": [
        "2014-03-17 15:32:31,464 INFO CLAW: Solution 460 computed for time t=460.000000\n"
       ]
      },
      {
       "output_type": "stream",
       "stream": "stdout",
       "text": [
        "2014-03-17 15:32:31,494 INFO CLAW: Solution 461 computed for time t=461.000000\n"
       ]
      },
      {
       "output_type": "stream",
       "stream": "stdout",
       "text": [
        "2014-03-17 15:32:31,519 INFO CLAW: Solution 462 computed for time t=462.000000\n"
       ]
      },
      {
       "output_type": "stream",
       "stream": "stdout",
       "text": [
        "2014-03-17 15:32:31,544 INFO CLAW: Solution 463 computed for time t=463.000000\n"
       ]
      },
      {
       "output_type": "stream",
       "stream": "stdout",
       "text": [
        "2014-03-17 15:32:31,571 INFO CLAW: Solution 464 computed for time t=464.000000\n"
       ]
      },
      {
       "output_type": "stream",
       "stream": "stdout",
       "text": [
        "2014-03-17 15:32:31,602 INFO CLAW: Solution 465 computed for time t=465.000000\n"
       ]
      },
      {
       "output_type": "stream",
       "stream": "stdout",
       "text": [
        "2014-03-17 15:32:31,624 INFO CLAW: Solution 466 computed for time t=466.000000\n"
       ]
      },
      {
       "output_type": "stream",
       "stream": "stdout",
       "text": [
        "2014-03-17 15:32:31,644 INFO CLAW: Solution 467 computed for time t=467.000000\n"
       ]
      },
      {
       "output_type": "stream",
       "stream": "stdout",
       "text": [
        "2014-03-17 15:32:31,665 INFO CLAW: Solution 468 computed for time t=468.000000\n"
       ]
      },
      {
       "output_type": "stream",
       "stream": "stdout",
       "text": [
        "2014-03-17 15:32:31,686 INFO CLAW: Solution 469 computed for time t=469.000000\n"
       ]
      },
      {
       "output_type": "stream",
       "stream": "stdout",
       "text": [
        "2014-03-17 15:32:31,711 INFO CLAW: Solution 470 computed for time t=470.000000\n"
       ]
      },
      {
       "output_type": "stream",
       "stream": "stdout",
       "text": [
        "2014-03-17 15:32:31,734 INFO CLAW: Solution 471 computed for time t=471.000000\n"
       ]
      },
      {
       "output_type": "stream",
       "stream": "stdout",
       "text": [
        "2014-03-17 15:32:31,760 INFO CLAW: Solution 472 computed for time t=472.000000\n"
       ]
      },
      {
       "output_type": "stream",
       "stream": "stdout",
       "text": [
        "2014-03-17 15:32:31,786 INFO CLAW: Solution 473 computed for time t=473.000000\n"
       ]
      },
      {
       "output_type": "stream",
       "stream": "stdout",
       "text": [
        "2014-03-17 15:32:31,811 INFO CLAW: Solution 474 computed for time t=474.000000\n"
       ]
      },
      {
       "output_type": "stream",
       "stream": "stdout",
       "text": [
        "2014-03-17 15:32:31,831 INFO CLAW: Solution 475 computed for time t=475.000000\n"
       ]
      },
      {
       "output_type": "stream",
       "stream": "stdout",
       "text": [
        "2014-03-17 15:32:31,856 INFO CLAW: Solution 476 computed for time t=476.000000\n"
       ]
      },
      {
       "output_type": "stream",
       "stream": "stdout",
       "text": [
        "2014-03-17 15:32:31,890 INFO CLAW: Solution 477 computed for time t=477.000000\n"
       ]
      },
      {
       "output_type": "stream",
       "stream": "stdout",
       "text": [
        "2014-03-17 15:32:31,926 INFO CLAW: Solution 478 computed for time t=478.000000\n"
       ]
      },
      {
       "output_type": "stream",
       "stream": "stdout",
       "text": [
        "2014-03-17 15:32:31,949 INFO CLAW: Solution 479 computed for time t=479.000000\n"
       ]
      },
      {
       "output_type": "stream",
       "stream": "stdout",
       "text": [
        "2014-03-17 15:32:31,968 INFO CLAW: Solution 480 computed for time t=480.000000\n"
       ]
      },
      {
       "output_type": "stream",
       "stream": "stdout",
       "text": [
        "2014-03-17 15:32:32,002 INFO CLAW: Solution 481 computed for time t=481.000000\n"
       ]
      },
      {
       "output_type": "stream",
       "stream": "stdout",
       "text": [
        "2014-03-17 15:32:32,034 INFO CLAW: Solution 482 computed for time t=482.000000\n"
       ]
      },
      {
       "output_type": "stream",
       "stream": "stdout",
       "text": [
        "2014-03-17 15:32:32,061 INFO CLAW: Solution 483 computed for time t=483.000000\n"
       ]
      },
      {
       "output_type": "stream",
       "stream": "stdout",
       "text": [
        "2014-03-17 15:32:32,093 INFO CLAW: Solution 484 computed for time t=484.000000\n"
       ]
      },
      {
       "output_type": "stream",
       "stream": "stdout",
       "text": [
        "2014-03-17 15:32:32,121 INFO CLAW: Solution 485 computed for time t=485.000000\n"
       ]
      },
      {
       "output_type": "stream",
       "stream": "stdout",
       "text": [
        "2014-03-17 15:32:32,146 INFO CLAW: Solution 486 computed for time t=486.000000\n"
       ]
      },
      {
       "output_type": "stream",
       "stream": "stdout",
       "text": [
        "2014-03-17 15:32:32,167 INFO CLAW: Solution 487 computed for time t=487.000000\n"
       ]
      },
      {
       "output_type": "stream",
       "stream": "stdout",
       "text": [
        "2014-03-17 15:32:32,189 INFO CLAW: Solution 488 computed for time t=488.000000\n"
       ]
      },
      {
       "output_type": "stream",
       "stream": "stdout",
       "text": [
        "2014-03-17 15:32:32,224 INFO CLAW: Solution 489 computed for time t=489.000000\n"
       ]
      },
      {
       "output_type": "stream",
       "stream": "stdout",
       "text": [
        "2014-03-17 15:32:32,261 INFO CLAW: Solution 490 computed for time t=490.000000\n"
       ]
      },
      {
       "output_type": "stream",
       "stream": "stdout",
       "text": [
        "2014-03-17 15:32:32,297 INFO CLAW: Solution 491 computed for time t=491.000000\n"
       ]
      },
      {
       "output_type": "stream",
       "stream": "stdout",
       "text": [
        "2014-03-17 15:32:32,326 INFO CLAW: Solution 492 computed for time t=492.000000\n"
       ]
      },
      {
       "output_type": "stream",
       "stream": "stdout",
       "text": [
        "2014-03-17 15:32:32,345 INFO CLAW: Solution 493 computed for time t=493.000000\n"
       ]
      },
      {
       "output_type": "stream",
       "stream": "stdout",
       "text": [
        "2014-03-17 15:32:32,370 INFO CLAW: Solution 494 computed for time t=494.000000\n"
       ]
      },
      {
       "output_type": "stream",
       "stream": "stdout",
       "text": [
        "2014-03-17 15:32:32,397 INFO CLAW: Solution 495 computed for time t=495.000000\n"
       ]
      },
      {
       "output_type": "stream",
       "stream": "stdout",
       "text": [
        "2014-03-17 15:32:32,424 INFO CLAW: Solution 496 computed for time t=496.000000\n"
       ]
      },
      {
       "output_type": "stream",
       "stream": "stdout",
       "text": [
        "2014-03-17 15:32:32,450 INFO CLAW: Solution 497 computed for time t=497.000000\n"
       ]
      },
      {
       "output_type": "stream",
       "stream": "stdout",
       "text": [
        "2014-03-17 15:32:32,477 INFO CLAW: Solution 498 computed for time t=498.000000\n"
       ]
      },
      {
       "output_type": "stream",
       "stream": "stdout",
       "text": [
        "2014-03-17 15:32:32,503 INFO CLAW: Solution 499 computed for time t=499.000000\n"
       ]
      },
      {
       "output_type": "stream",
       "stream": "stdout",
       "text": [
        "2014-03-17 15:32:32,531 INFO CLAW: Solution 500 computed for time t=500.000000\n"
       ]
      }
     ],
     "prompt_number": 10
    },
    {
     "cell_type": "markdown",
     "metadata": {},
     "source": [
      "## Plotting\n",
      "Now we'll plot the results, which are contained in `claw.frames[:]`.  It's simple to plot a single frame with matplotlib:"
     ]
    },
    {
     "cell_type": "code",
     "collapsed": false,
     "input": [
      "density = claw.frames[0].q[0,:]\n",
      "plt.plot(x,density,'-o')"
     ],
     "language": "python",
     "metadata": {},
     "outputs": [
      {
       "metadata": {},
       "output_type": "pyout",
       "prompt_number": 11,
       "text": [
        "[<matplotlib.lines.Line2D at 0x4190d10>]"
       ]
      },
      {
       "metadata": {},
       "output_type": "display_data",
       "png": "[encoded data removed]",
       "text": [
        "<matplotlib.figure.Figure at 0x4161310>"
       ]
      }
     ]
    },
    {
     "cell_type": "markdown",
     "metadata": {},
     "source": [
      "To examine the evolution more thoroughly, it's nice to see all the frames in sequence.  We can do this as follows."
     ]
    },
    {
     "cell_type": "code",
     "collapsed": false,
     "input": [
      "from matplotlib import animation\n",
      "import matplotlib.pyplot as plt\n",
      "from clawpack.visclaw.JSAnimation import IPython_display\n",
      "import numpy as np\n",
      "\n",
      "fig = plt.figure(figsize(1,1))\n",
      "ax = plt.axes(xlim=(0, xmax), ylim=(0, np.max(rho)+1))\n",
      "\n",
      "frame = claw.frames[0]\n",
      "density = frame.q[0,:]\n",
      "line, = ax.plot([], [], lw=2)\n",
      "\n",
      "def fplot(frame_number):\n",
      "    frame = claw.frames[frame_number]\n",
      "    density = frame.q[0,:]\n",
      "    line.set_data(x,density)\n",
      "    return line,\n",
      "\n",
      "animation.FuncAnimation(fig, fplot, frames=len(claw.frames), interval=30)"
     ],
     "language": "python",
     "metadata": {},
     "outputs": [
      {
       "ename": "ImportError",
       "evalue": "cannot import name writers",
       "output_type": "pyerr",
       "traceback": [
        "\u001b[1;31m---------------------------------------------------------------------------\u001b[0m\n\u001b[1;31mImportError\u001b[0m                               Traceback (most recent call last)",
        "\u001b[1;32m<ipython-input-28-09cbf059ba53>\u001b[0m in \u001b[0;36m<module>\u001b[1;34m()\u001b[0m\n\u001b[0;32m      1\u001b[0m \u001b[1;32mfrom\u001b[0m \u001b[0mmatplotlib\u001b[0m \u001b[1;32mimport\u001b[0m \u001b[0manimation\u001b[0m\u001b[1;33m\u001b[0m\u001b[0m\n\u001b[0;32m      2\u001b[0m \u001b[1;32mimport\u001b[0m \u001b[0mmatplotlib\u001b[0m\u001b[1;33m.\u001b[0m\u001b[0mpyplot\u001b[0m \u001b[1;32mas\u001b[0m \u001b[0mplt\u001b[0m\u001b[1;33m\u001b[0m\u001b[0m\n\u001b[1;32m----> 3\u001b[1;33m \u001b[1;32mfrom\u001b[0m \u001b[0mclawpack\u001b[0m\u001b[1;33m.\u001b[0m\u001b[0mvisclaw\u001b[0m\u001b[1;33m.\u001b[0m\u001b[0mJSAnimation\u001b[0m \u001b[1;32mimport\u001b[0m \u001b[0mIPython_display\u001b[0m\u001b[1;33m\u001b[0m\u001b[0m\n\u001b[0m\u001b[0;32m      4\u001b[0m \u001b[1;32mimport\u001b[0m \u001b[0mnumpy\u001b[0m \u001b[1;32mas\u001b[0m \u001b[0mnp\u001b[0m\u001b[1;33m\u001b[0m\u001b[0m\n\u001b[0;32m      5\u001b[0m \u001b[1;33m\u001b[0m\u001b[0m\n",
        "\u001b[1;32m/home/maltezfaria/.local/lib/python2.7/site-packages/clawpack/visclaw/JSAnimation/__init__.py\u001b[0m in \u001b[0;36m<module>\u001b[1;34m()\u001b[0m\n\u001b[1;32m----> 1\u001b[1;33m \u001b[1;32mfrom\u001b[0m \u001b[0mhtml_writer\u001b[0m \u001b[1;32mimport\u001b[0m \u001b[0mHTMLWriter\u001b[0m\u001b[1;33m\u001b[0m\u001b[0m\n\u001b[0m",
        "\u001b[1;32m/home/maltezfaria/.local/lib/python2.7/site-packages/clawpack/visclaw/JSAnimation/html_writer.py\u001b[0m in \u001b[0;36m<module>\u001b[1;34m()\u001b[0m\n\u001b[0;32m      3\u001b[0m \u001b[1;32mimport\u001b[0m \u001b[0mrandom\u001b[0m\u001b[1;33m\u001b[0m\u001b[0m\n\u001b[0;32m      4\u001b[0m \u001b[1;32mimport\u001b[0m \u001b[0mcStringIO\u001b[0m\u001b[1;33m\u001b[0m\u001b[0m\n\u001b[1;32m----> 5\u001b[1;33m \u001b[1;32mfrom\u001b[0m \u001b[0mmatplotlib\u001b[0m\u001b[1;33m.\u001b[0m\u001b[0manimation\u001b[0m \u001b[1;32mimport\u001b[0m \u001b[0mwriters\u001b[0m\u001b[1;33m,\u001b[0m \u001b[0mFileMovieWriter\u001b[0m\u001b[1;33m\u001b[0m\u001b[0m\n\u001b[0m\u001b[0;32m      6\u001b[0m \u001b[1;32mimport\u001b[0m \u001b[0mrandom\u001b[0m\u001b[1;33m\u001b[0m\u001b[0m\n\u001b[0;32m      7\u001b[0m \u001b[1;33m\u001b[0m\u001b[0m\n",
        "\u001b[1;31mImportError\u001b[0m: cannot import name writers"
       ]
      }
     ],
     "prompt_number": 28
    },
    {
     "cell_type": "code",
     "collapsed": false,
     "input": [],
     "language": "python",
     "metadata": {},
     "outputs": []
    }
   ],
   "metadata": {}
  }
 ]
}