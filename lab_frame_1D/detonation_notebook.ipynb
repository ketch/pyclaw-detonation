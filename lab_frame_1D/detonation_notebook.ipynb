{
 "cells": [
  {
   "cell_type": "code",
   "execution_count": null,
   "metadata": {
    "collapsed": false,
    "deletable": true,
    "editable": true
   },
   "outputs": [],
   "source": [
    "!make"
   ]
  },
  {
   "cell_type": "code",
   "execution_count": null,
   "metadata": {
    "collapsed": false,
    "deletable": true,
    "editable": true
   },
   "outputs": [],
   "source": [
    "import numpy as np\n",
    "import matplotlib.pyplot as plt\n",
    "from clawpack import pyclaw\n",
    "from clawpack import riemann\n",
    "import reactive_euler_1D_roe_efix as rp_solver\n",
    "import steadyState as steadyState"
   ]
  },
  {
   "cell_type": "code",
   "execution_count": null,
   "metadata": {
    "collapsed": false,
    "deletable": true,
    "editable": true
   },
   "outputs": [],
   "source": [
    "%matplotlib inline\n",
    "gamma = 1.2\n",
    "gamma1 = gamma - 1\n",
    "qheat = 50\n",
    "Ea = 26\n",
    "T_ign = 4\n",
    "mx = 200\n",
    "xmax=25\n",
    "tfinal = 100\n",
    "dtplot = 1"
   ]
  },
  {
   "cell_type": "code",
   "execution_count": null,
   "metadata": {
    "collapsed": false,
    "deletable": true,
    "editable": true
   },
   "outputs": [],
   "source": [
    "def step_reaction(solver, state, dt):\n",
    "    global k\n",
    "    q = state.q\n",
    "    q[0,:] = q[0,:]\n",
    "    q[1,:] = q[1,:]\n",
    "    q[2,:] = q[2,:]\n",
    "    q[3,:] = q[3,:] + dt*omega(q, k)\n",
    "\n",
    "def step_reaction_dq(solver, state, dt):\n",
    "    global k\n",
    "    q = state.q\n",
    "    dq = np.empty(q.shape)\n",
    "    dq[3,:] = dt*omega(q, k)\n",
    "    return dq\n",
    "    \n",
    "def omega(q, k):\n",
    "    \"\"\" Reaction rate function\n",
    "    \"\"\"\n",
    "    import numpy as np\n",
    "    pressure = gamma1*(q[2,:]-0.5*q[1,:]**2/q[0,:] -\n",
    "                        qheat*q[3,:])\n",
    "    T = pressure / q[0,:]\n",
    "    return -k*(q[3,:])*np.exp(-Ea/T)*(T>T_ign)"
   ]
  },
  {
   "cell_type": "code",
   "execution_count": null,
   "metadata": {
    "collapsed": false,
    "deletable": true,
    "editable": true
   },
   "outputs": [],
   "source": [
    "solver = pyclaw.ClawSolver1D(rp_solver)\n",
    "solver.step_source = step_reaction\n",
    "solver.limiters = 1\n",
    "#solver = pyclaw.SharpClawSolver1D(reactive_euler_efix_roe_1D)\n",
    "#solver.dq_src = step_reaction_dq\n",
    "#solver.weno_order = 5\n",
    "solver.bc_lower[0]=pyclaw.BC.extrap\n",
    "solver.bc_upper[0]=pyclaw.BC.extrap\n",
    "solver.num_eqn = 4\n",
    "solver.num_waves = 4"
   ]
  },
  {
   "cell_type": "code",
   "execution_count": null,
   "metadata": {
    "collapsed": false,
    "deletable": true,
    "editable": true
   },
   "outputs": [],
   "source": [
    " # Initialize domain\n",
    "x = pyclaw.Dimension(0.0,xmax,mx,'x')\n",
    "domain = pyclaw.Domain([x])\n",
    "state = pyclaw.State(domain,solver.num_eqn)\n",
    "\n",
    "x =state.grid.x.centers\n",
    "xs = xmax-5\n",
    "xdet = x[x<xs]\n",
    "\n",
    "rhol, Ul, pl, laml, D, k = steadyState.steadyState(qheat, Ea, gamma, xdet)\n",
    "ul = Ul + D\n",
    "Yl = 1-laml\n",
    "print(\"k=\"+str(k))\n",
    "\n",
    "rhor = 1.*np.ones(np.shape(x[x>=xs]))\n",
    "ur = 0.0*np.ones(np.shape(x[x>=xs]))\n",
    "pr = 1*np.ones(np.shape(x[x>=xs]))\n",
    "Yr = 1.*np.ones(np.shape(x[x>=xs]))\n",
    "\n",
    "rho = np.append(rhol, rhor)\n",
    "u = np.append(ul, ur)\n",
    "p = np.append(pl, pr)\n",
    "Y = np.append(Yl, Yr)"
   ]
  },
  {
   "cell_type": "code",
   "execution_count": null,
   "metadata": {
    "collapsed": false,
    "deletable": true,
    "editable": true
   },
   "outputs": [],
   "source": [
    "state.q[0,:] = rho\n",
    "state.q[1,:] = rho*u\n",
    "state.q[2,:] = p/gamma1 + rho*u**2/2 + qheat*rho*Y\n",
    "state.q[3,:] = rho*Y   \n",
    "\n",
    "state.problem_data['gamma']= gamma\n",
    "state.problem_data['gamma1']= gamma1\n",
    "state.problem_data['qheat']= qheat\n",
    "state.problem_data['Ea'] = Ea\n",
    "state.problem_data['T_ign'] = T_ign\n",
    "state.problem_data['xfspeed'] = 1.*D"
   ]
  },
  {
   "cell_type": "code",
   "execution_count": null,
   "metadata": {
    "collapsed": false,
    "deletable": true,
    "editable": true
   },
   "outputs": [],
   "source": [
    "claw = pyclaw.Controller()\n",
    "claw.tfinal = tfinal\n",
    "claw.keep_copy = True       # Keep solution data in memory for plotting\n",
    "claw.num_output_times = np.ceil(claw.tfinal / dtplot)  # Write 50 output frames\n",
    "claw.solution = pyclaw.Solution(state,domain)\n",
    "claw.solver = solver"
   ]
  },
  {
   "cell_type": "markdown",
   "metadata": {
    "deletable": true,
    "editable": true
   },
   "source": [
    "Finally, let's run the simulation."
   ]
  },
  {
   "cell_type": "code",
   "execution_count": null,
   "metadata": {
    "collapsed": false,
    "deletable": true,
    "editable": true
   },
   "outputs": [],
   "source": [
    "status = claw.run();"
   ]
  },
  {
   "cell_type": "markdown",
   "metadata": {
    "deletable": true,
    "editable": true
   },
   "source": [
    "## Plotting\n",
    "Now we'll plot the results, which are contained in `claw.frames[:]`.  It's simple to plot a single frame with matplotlib:"
   ]
  },
  {
   "cell_type": "code",
   "execution_count": null,
   "metadata": {
    "collapsed": false,
    "deletable": true,
    "editable": true
   },
   "outputs": [],
   "source": [
    "def pressure(current_data):\n",
    "    q = current_data.q\n",
    "    rho = q[0,:]\n",
    "    u   = q[1,:]/rho\n",
    "    press = gamma1 *  (q[2,:] - 0.5*rho*(u**2) - qheat*q[3,:])\n",
    "    return press"
   ]
  },
  {
   "cell_type": "code",
   "execution_count": null,
   "metadata": {
    "collapsed": false,
    "deletable": true,
    "editable": true
   },
   "outputs": [],
   "source": [
    "frameno=0\n",
    "density = claw.frames[frameno].q[0,:]\n",
    "p = pressure(claw.frames[frameno])\n",
    "plt.plot(x,p,'-')\n",
    "plt.title(\"time=\"+str(claw.frames[frameno].t))"
   ]
  },
  {
   "cell_type": "markdown",
   "metadata": {
    "deletable": true,
    "editable": true
   },
   "source": [
    "To examine the evolution more thoroughly, it's nice to see all the frames in sequence.  We can do this as follows."
   ]
  },
  {
   "cell_type": "code",
   "execution_count": null,
   "metadata": {
    "collapsed": false,
    "deletable": true,
    "editable": true
   },
   "outputs": [],
   "source": [
    "from matplotlib import animation\n",
    "from clawpack.visclaw.JSAnimation import IPython_display\n",
    "\n",
    "frame = claw.frames[0]\n",
    "density = frame.q[0,:]\n",
    "p = pressure(frame)\n",
    "\n",
    "fig = plt.figure(figsize=(4,2))\n",
    "ax = plt.axes(xlim=(0, xmax), ylim=(0, np.max(p)+10))\n",
    "line, = ax.plot([], [], lw=2)\n",
    "plt.title(\"time=\"+str(frame.t))\n",
    "\n",
    "\n",
    "def fplot(frame_number):\n",
    "    frame = claw.frames[frame_number]\n",
    "    p = pressure(frame)\n",
    "    t = frame.t\n",
    "    xlab = x+D*t\n",
    "    ax.set_xlim([xlab[0], xlab[-1]])\n",
    "    line.set_data(x+D*t,p)\n",
    "    ax.set_title('Pressure at t='+str(t))\n",
    "    return line,\n",
    "\n",
    "animation.FuncAnimation(fig, fplot, frames=len(claw.frames), interval=50, blit=True)"
   ]
  },
  {
   "cell_type": "code",
   "execution_count": null,
   "metadata": {
    "collapsed": false,
    "deletable": true,
    "editable": true
   },
   "outputs": [],
   "source": [
    "import matplotlib\n",
    "matplotlib.use(\"Agg\")\n",
    "\n",
    "FFMpegWriter = animation.writers['ffmpeg']\n",
    "metadata = dict(title='Movie Test', artist='Matplotlib',\n",
    "        comment='Movie support!')\n",
    "writer = FFMpegWriter(fps=15, metadata=metadata)\n",
    "\n",
    "frame = claw.frames[0]\n",
    "density = frame.q[0,:]\n",
    "p = pressure(frame)\n",
    "\n",
    "fig = plt.figure(figsize(4,2))\n",
    "ax = plt.axes(xlim=(0, xmax), ylim=(0, np.max(p)+10))\n",
    "line, = ax.plot([], [], lw=2)\n",
    "plt.title(\"time=\"+str(frame.t))\n",
    "\n",
    "with writer.saving(fig, \"pulsating_detonation.mp4\", 100):\n",
    "    for i in range(len(claw.frames)):\n",
    "        fplot(i)\n",
    "        writer.grab_frame()"
   ]
  }
 ],
 "metadata": {
  "kernelspec": {
   "display_name": "Python 2",
   "language": "python",
   "name": "python2"
  },
  "language_info": {
   "codemirror_mode": {
    "name": "ipython",
    "version": 2
   },
   "file_extension": ".py",
   "mimetype": "text/x-python",
   "name": "python",
   "nbconvert_exporter": "python",
   "pygments_lexer": "ipython2",
   "version": "2.7.13"
  }
 },
 "nbformat": 4,
 "nbformat_minor": 0
}
